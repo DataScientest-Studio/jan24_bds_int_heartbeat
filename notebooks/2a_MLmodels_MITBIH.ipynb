{
 "cells": [
  {
   "cell_type": "code",
   "execution_count": 3,
   "id": "96a6a1e1",
   "metadata": {
    "_cell_guid": "b1076dfc-b9ad-4769-8c92-a6c4dae69d19",
    "_uuid": "8f2839f25d086af736a60e9eeb907d3b93b6e0e5",
    "execution": {
     "iopub.execute_input": "2024-03-08T16:37:17.976321Z",
     "iopub.status.busy": "2024-03-08T16:37:17.976012Z",
     "iopub.status.idle": "2024-03-08T16:37:20.109322Z",
     "shell.execute_reply": "2024-03-08T16:37:20.108455Z"
    },
    "papermill": {
     "duration": 2.143552,
     "end_time": "2024-03-08T16:37:20.111079",
     "exception": false,
     "start_time": "2024-03-08T16:37:17.967527",
     "status": "completed"
    },
    "tags": []
   },
   "outputs": [],
   "source": [
    "# This Python 3 environment comes with many helpful analytics libraries installed\n",
    "# It is defined by the kaggle/python Docker image: https://github.com/kaggle/docker-python\n",
    "# For example, here's several helpful packages to load\n",
    "\n",
    "import numpy as np # linear algebra\n",
    "import pandas as pd # data processing, CSV file I/O (e.g. pd.read_csv)\n",
    "from sklearn.model_selection import train_test_split\n",
    "from imblearn.over_sampling import SMOTE\n",
    "from imblearn.under_sampling import RandomUnderSampler\n",
    "from sklearn.metrics import accuracy_score, classification_report\n",
    "\n",
    "from sklearn.svm import SVC\n",
    "from sklearn.tree import DecisionTreeClassifier as DTC\n",
    "from sklearn.ensemble import RandomForestClassifier as RFC\n",
    "from sklearn.neighbors import KNeighborsClassifier as KNN\n",
    "import xgboost as XGB\n",
    "\n",
    "# Input data files are available in the read-only \"../input/\" directory\n",
    "# For example, running this (by clicking run or pressing Shift+Enter) will list all files under the input directory\n",
    "\n",
    "import os\n",
    "for dirname, _, filenames in os.walk('/kaggle/input'):\n",
    "    for filename in filenames:\n",
    "        print(os.path.join(dirname, filename))\n",
    "\n",
    "# You can write up to 20GB to the current directory (/kaggle/working/) that gets preserved as output when you create a version using \"Save & Run All\" \n",
    "# You can also write temporary files to /kaggle/temp/, but they won't be saved outside of the current session"
   ]
  },
  {
   "cell_type": "code",
   "execution_count": 11,
   "id": "c3a84163",
   "metadata": {},
   "outputs": [
    {
     "name": "stdout",
     "output_type": "stream",
     "text": [
      "Warning: Your Kaggle API key is readable by other users on this system! To fix this, you can run 'chmod 600 /home/simon/.kaggle/kaggle.json'\n",
      "All Datasets are already available.\n"
     ]
    }
   ],
   "source": [
    "## Test cell for simon: Using Kaggle API to download the datasets indepent of github and its filesize limitations. Storing it in folder located outside of the repo.\n",
    "# If this works, all filepaths have to be adjusted in all notebooks to make use of the downloaded datasets.\n",
    "#RUN THIS CELL ONLY ONCE FOR ALL NOTEBOOKS!\n",
    "\n",
    "from kaggle.api.kaggle_api_extended import KaggleApi\n",
    "\n",
    "#configuring and authentification with kaggle api. This could be configured so that a authentification mask is shown?\n",
    "api = KaggleApi()\n",
    "api.authenticate()\n",
    "\n",
    "#Configuring the metadata for the ecg heartbeat data (original username etc)\n",
    "dataset_owner = \"shayanfazeli\"\n",
    "dataset_name = \"heartbeat\"\n",
    "\n",
    "#Configuring a download path that is NOT in the current github repo (so the big files are not pushed and cause an error!) --> Links to filepaths have to be dynamically adjusted\n",
    "download_path = \"/home/simon/KAGGLE_datasets\"\n",
    "\n",
    "# Download structure: First check if dataset is already downloaded, else download it and store it in download path (should be outside git repo!)\n",
    "dataset_folder = os.path.join(download_path, dataset_name)\n",
    "if not os.path.exists(dataset_folder):\n",
    "    # Case 1: Dataset path is not created --> Create it and download datasets into it\n",
    "    api.dataset_download_files(dataset_owner + \"/\" + dataset_name, path=download_path + \"/\" + dataset_name, unzip=True)\n",
    "    print(\"Datasets are downloaded and unzipped.\")\n",
    "else:\n",
    "    # Case 2: Folder is created, but datasets might be missing\n",
    "    missing_files = [] \n",
    "    for file_name in [\"mitbih_test.csv\", \"mitbih_train.csv\", \"ptbdb_abnormal.csv\", \"ptbdb_normal.csv\"]:  # These are the hardcoded names of the datasets that should be downloaded.\n",
    "        file_path = os.path.join(dataset_folder, file_name)\n",
    "        if not os.path.exists(file_path):\n",
    "            missing_files.append(file_name)\n",
    "\n",
    "    if missing_files:\n",
    "        # If the list contains missing files, download ALL files and overwrite the old folder.\n",
    "        api.dataset_download_files(dataset_owner + \"/\" + dataset_name, path=download_path + \"/\" + dataset_name, unzip=True, force=True)\n",
    "        print(\"Missing data was donwloaded and unzipped. All Datasets are now available.\")\n",
    "    else:\n",
    "        print(\"All Datasets are already available.\")\n",
    "\n",
    "#Creating new variable that links to the datasets and can be used in the rest of the code.\n",
    "path_to_datasets = download_path + \"/\" + dataset_name "
   ]
  },
  {
   "cell_type": "code",
   "execution_count": 12,
   "id": "06073fe3",
   "metadata": {
    "execution": {
     "iopub.execute_input": "2024-03-08T16:37:20.125597Z",
     "iopub.status.busy": "2024-03-08T16:37:20.125236Z",
     "iopub.status.idle": "2024-03-08T16:37:20.128675Z",
     "shell.execute_reply": "2024-03-08T16:37:20.128113Z"
    },
    "papermill": {
     "duration": 0.01209,
     "end_time": "2024-03-08T16:37:20.130036",
     "exception": false,
     "start_time": "2024-03-08T16:37:20.117946",
     "status": "completed"
    },
    "tags": []
   },
   "outputs": [],
   "source": [
    "np.set_printoptions(precision=4)"
   ]
  },
  {
   "cell_type": "code",
   "execution_count": 13,
   "id": "71a126b0",
   "metadata": {
    "execution": {
     "iopub.execute_input": "2024-03-08T16:37:20.144307Z",
     "iopub.status.busy": "2024-03-08T16:37:20.143891Z",
     "iopub.status.idle": "2024-03-08T16:37:28.554329Z",
     "shell.execute_reply": "2024-03-08T16:37:28.553540Z"
    },
    "papermill": {
     "duration": 8.419779,
     "end_time": "2024-03-08T16:37:28.556365",
     "exception": false,
     "start_time": "2024-03-08T16:37:20.136586",
     "status": "completed"
    },
    "tags": []
   },
   "outputs": [],
   "source": [
    "# This cell now makes use of the downloadfolder for the datasets. If already available locally, the filepaths can be changed.\n",
    "df_train= pd.read_csv(path_to_datasets + \"/\" + 'mitbih_train.csv', header=None)\n",
    "df_test=pd.read_csv(path_to_datasets + \"/\" +  'mitbih_test.csv',header=None)\n",
    "\n",
    "#split target and value\n",
    "train_target=df_train[187]\n",
    "test_target=df_test[187]\n",
    "train=df_train.drop(187,axis=1)\n",
    "test=df_test.drop(187,axis=1)"
   ]
  },
  {
   "cell_type": "code",
   "execution_count": 4,
   "id": "f3cbb4eb",
   "metadata": {
    "execution": {
     "iopub.execute_input": "2024-03-08T16:37:28.570682Z",
     "iopub.status.busy": "2024-03-08T16:37:28.570419Z",
     "iopub.status.idle": "2024-03-08T16:37:28.573932Z",
     "shell.execute_reply": "2024-03-08T16:37:28.573208Z"
    },
    "papermill": {
     "duration": 0.012332,
     "end_time": "2024-03-08T16:37:28.575526",
     "exception": false,
     "start_time": "2024-03-08T16:37:28.563194",
     "status": "completed"
    },
    "tags": []
   },
   "outputs": [],
   "source": [
    "class Config:\n",
    "    oversample = True\n",
    "    undersample = False"
   ]
  },
  {
   "cell_type": "code",
   "execution_count": 5,
   "id": "045ff622",
   "metadata": {
    "execution": {
     "iopub.execute_input": "2024-03-08T16:37:28.590061Z",
     "iopub.status.busy": "2024-03-08T16:37:28.589796Z",
     "iopub.status.idle": "2024-03-08T16:37:28.593402Z",
     "shell.execute_reply": "2024-03-08T16:37:28.592581Z"
    },
    "papermill": {
     "duration": 0.012892,
     "end_time": "2024-03-08T16:37:28.595250",
     "exception": false,
     "start_time": "2024-03-08T16:37:28.582358",
     "status": "completed"
    },
    "tags": []
   },
   "outputs": [],
   "source": [
    "oversampler = SMOTE()\n",
    "undersampler = RandomUnderSampler()"
   ]
  },
  {
   "cell_type": "code",
   "execution_count": 6,
   "id": "303ceae0",
   "metadata": {
    "execution": {
     "iopub.execute_input": "2024-03-08T16:37:28.609288Z",
     "iopub.status.busy": "2024-03-08T16:37:28.609005Z",
     "iopub.status.idle": "2024-03-08T16:37:29.972590Z",
     "shell.execute_reply": "2024-03-08T16:37:29.971888Z"
    },
    "papermill": {
     "duration": 1.372662,
     "end_time": "2024-03-08T16:37:29.974472",
     "exception": false,
     "start_time": "2024-03-08T16:37:28.601810",
     "status": "completed"
    },
    "tags": []
   },
   "outputs": [],
   "source": [
    "if Config.oversample:\n",
    "    train, train_target = oversampler.fit_resample(df_train.iloc[:,:-1], df_train.iloc[:,-1])\n",
    "elif Config.undersample:\n",
    "    train, train_target = undersampler.fit_resample(df_train.iloc[:,:-1], df_train.iloc[:,-1])\n",
    "else: \n",
    "    print(\"Using the original mitbih dataset\")"
   ]
  },
  {
   "cell_type": "code",
   "execution_count": 7,
   "id": "da81ef52",
   "metadata": {
    "execution": {
     "iopub.execute_input": "2024-03-08T16:37:29.989075Z",
     "iopub.status.busy": "2024-03-08T16:37:29.988820Z",
     "iopub.status.idle": "2024-03-08T16:37:29.994384Z",
     "shell.execute_reply": "2024-03-08T16:37:29.993649Z"
    },
    "papermill": {
     "duration": 0.014706,
     "end_time": "2024-03-08T16:37:29.996128",
     "exception": false,
     "start_time": "2024-03-08T16:37:29.981422",
     "status": "completed"
    },
    "tags": []
   },
   "outputs": [
    {
     "data": {
      "text/plain": [
       "(362355, 187)"
      ]
     },
     "execution_count": 7,
     "metadata": {},
     "output_type": "execute_result"
    }
   ],
   "source": [
    "train.shape"
   ]
  },
  {
   "cell_type": "markdown",
   "id": "d1b9fe67",
   "metadata": {
    "papermill": {
     "duration": 0.006442,
     "end_time": "2024-03-08T16:37:30.009438",
     "exception": false,
     "start_time": "2024-03-08T16:37:30.002996",
     "status": "completed"
    },
    "tags": []
   },
   "source": [
    "# **SVM**"
   ]
  },
  {
   "cell_type": "code",
   "execution_count": 8,
   "id": "140181b5",
   "metadata": {
    "execution": {
     "iopub.execute_input": "2024-03-08T16:37:30.024672Z",
     "iopub.status.busy": "2024-03-08T16:37:30.024196Z",
     "iopub.status.idle": "2024-03-08T16:37:30.027938Z",
     "shell.execute_reply": "2024-03-08T16:37:30.027182Z"
    },
    "papermill": {
     "duration": 0.013468,
     "end_time": "2024-03-08T16:37:30.029503",
     "exception": false,
     "start_time": "2024-03-08T16:37:30.016035",
     "status": "completed"
    },
    "tags": []
   },
   "outputs": [],
   "source": [
    "model = SVC(cache_size=500)"
   ]
  },
  {
   "cell_type": "code",
   "execution_count": 9,
   "id": "4d35a457",
   "metadata": {
    "execution": {
     "iopub.execute_input": "2024-03-08T16:37:30.044565Z",
     "iopub.status.busy": "2024-03-08T16:37:30.044314Z",
     "iopub.status.idle": "2024-03-08T17:15:06.757014Z",
     "shell.execute_reply": "2024-03-08T17:15:06.756136Z"
    },
    "papermill": {
     "duration": 2256.729265,
     "end_time": "2024-03-08T17:15:06.765640",
     "exception": false,
     "start_time": "2024-03-08T16:37:30.036375",
     "status": "completed"
    },
    "tags": []
   },
   "outputs": [
    {
     "data": {
      "text/html": [
       "<style>#sk-container-id-1 {color: black;background-color: white;}#sk-container-id-1 pre{padding: 0;}#sk-container-id-1 div.sk-toggleable {background-color: white;}#sk-container-id-1 label.sk-toggleable__label {cursor: pointer;display: block;width: 100%;margin-bottom: 0;padding: 0.3em;box-sizing: border-box;text-align: center;}#sk-container-id-1 label.sk-toggleable__label-arrow:before {content: \"▸\";float: left;margin-right: 0.25em;color: #696969;}#sk-container-id-1 label.sk-toggleable__label-arrow:hover:before {color: black;}#sk-container-id-1 div.sk-estimator:hover label.sk-toggleable__label-arrow:before {color: black;}#sk-container-id-1 div.sk-toggleable__content {max-height: 0;max-width: 0;overflow: hidden;text-align: left;background-color: #f0f8ff;}#sk-container-id-1 div.sk-toggleable__content pre {margin: 0.2em;color: black;border-radius: 0.25em;background-color: #f0f8ff;}#sk-container-id-1 input.sk-toggleable__control:checked~div.sk-toggleable__content {max-height: 200px;max-width: 100%;overflow: auto;}#sk-container-id-1 input.sk-toggleable__control:checked~label.sk-toggleable__label-arrow:before {content: \"▾\";}#sk-container-id-1 div.sk-estimator input.sk-toggleable__control:checked~label.sk-toggleable__label {background-color: #d4ebff;}#sk-container-id-1 div.sk-label input.sk-toggleable__control:checked~label.sk-toggleable__label {background-color: #d4ebff;}#sk-container-id-1 input.sk-hidden--visually {border: 0;clip: rect(1px 1px 1px 1px);clip: rect(1px, 1px, 1px, 1px);height: 1px;margin: -1px;overflow: hidden;padding: 0;position: absolute;width: 1px;}#sk-container-id-1 div.sk-estimator {font-family: monospace;background-color: #f0f8ff;border: 1px dotted black;border-radius: 0.25em;box-sizing: border-box;margin-bottom: 0.5em;}#sk-container-id-1 div.sk-estimator:hover {background-color: #d4ebff;}#sk-container-id-1 div.sk-parallel-item::after {content: \"\";width: 100%;border-bottom: 1px solid gray;flex-grow: 1;}#sk-container-id-1 div.sk-label:hover label.sk-toggleable__label {background-color: #d4ebff;}#sk-container-id-1 div.sk-serial::before {content: \"\";position: absolute;border-left: 1px solid gray;box-sizing: border-box;top: 0;bottom: 0;left: 50%;z-index: 0;}#sk-container-id-1 div.sk-serial {display: flex;flex-direction: column;align-items: center;background-color: white;padding-right: 0.2em;padding-left: 0.2em;position: relative;}#sk-container-id-1 div.sk-item {position: relative;z-index: 1;}#sk-container-id-1 div.sk-parallel {display: flex;align-items: stretch;justify-content: center;background-color: white;position: relative;}#sk-container-id-1 div.sk-item::before, #sk-container-id-1 div.sk-parallel-item::before {content: \"\";position: absolute;border-left: 1px solid gray;box-sizing: border-box;top: 0;bottom: 0;left: 50%;z-index: -1;}#sk-container-id-1 div.sk-parallel-item {display: flex;flex-direction: column;z-index: 1;position: relative;background-color: white;}#sk-container-id-1 div.sk-parallel-item:first-child::after {align-self: flex-end;width: 50%;}#sk-container-id-1 div.sk-parallel-item:last-child::after {align-self: flex-start;width: 50%;}#sk-container-id-1 div.sk-parallel-item:only-child::after {width: 0;}#sk-container-id-1 div.sk-dashed-wrapped {border: 1px dashed gray;margin: 0 0.4em 0.5em 0.4em;box-sizing: border-box;padding-bottom: 0.4em;background-color: white;}#sk-container-id-1 div.sk-label label {font-family: monospace;font-weight: bold;display: inline-block;line-height: 1.2em;}#sk-container-id-1 div.sk-label-container {text-align: center;}#sk-container-id-1 div.sk-container {/* jupyter's `normalize.less` sets `[hidden] { display: none; }` but bootstrap.min.css set `[hidden] { display: none !important; }` so we also need the `!important` here to be able to override the default hidden behavior on the sphinx rendered scikit-learn.org. See: https://github.com/scikit-learn/scikit-learn/issues/21755 */display: inline-block !important;position: relative;}#sk-container-id-1 div.sk-text-repr-fallback {display: none;}</style><div id=\"sk-container-id-1\" class=\"sk-top-container\"><div class=\"sk-text-repr-fallback\"><pre>SVC(cache_size=500)</pre><b>In a Jupyter environment, please rerun this cell to show the HTML representation or trust the notebook. <br />On GitHub, the HTML representation is unable to render, please try loading this page with nbviewer.org.</b></div><div class=\"sk-container\" hidden><div class=\"sk-item\"><div class=\"sk-estimator sk-toggleable\"><input class=\"sk-toggleable__control sk-hidden--visually\" id=\"sk-estimator-id-1\" type=\"checkbox\" checked><label for=\"sk-estimator-id-1\" class=\"sk-toggleable__label sk-toggleable__label-arrow\">SVC</label><div class=\"sk-toggleable__content\"><pre>SVC(cache_size=500)</pre></div></div></div></div></div>"
      ],
      "text/plain": [
       "SVC(cache_size=500)"
      ]
     },
     "execution_count": 9,
     "metadata": {},
     "output_type": "execute_result"
    }
   ],
   "source": [
    "model.fit(train,train_target)"
   ]
  },
  {
   "cell_type": "code",
   "execution_count": 10,
   "id": "c8341636",
   "metadata": {
    "execution": {
     "iopub.execute_input": "2024-03-08T17:15:06.780951Z",
     "iopub.status.busy": "2024-03-08T17:15:06.780669Z",
     "iopub.status.idle": "2024-03-08T17:15:06.784239Z",
     "shell.execute_reply": "2024-03-08T17:15:06.783523Z"
    },
    "papermill": {
     "duration": 0.012941,
     "end_time": "2024-03-08T17:15:06.785843",
     "exception": false,
     "start_time": "2024-03-08T17:15:06.772902",
     "status": "completed"
    },
    "tags": []
   },
   "outputs": [],
   "source": [
    "#model.score(train,train_target)"
   ]
  },
  {
   "cell_type": "code",
   "execution_count": 11,
   "id": "d64a54f8",
   "metadata": {
    "execution": {
     "iopub.execute_input": "2024-03-08T17:15:06.800791Z",
     "iopub.status.busy": "2024-03-08T17:15:06.800137Z",
     "iopub.status.idle": "2024-03-08T17:18:35.795309Z",
     "shell.execute_reply": "2024-03-08T17:18:35.794402Z"
    },
    "papermill": {
     "duration": 209.005152,
     "end_time": "2024-03-08T17:18:35.797766",
     "exception": false,
     "start_time": "2024-03-08T17:15:06.792614",
     "status": "completed"
    },
    "tags": []
   },
   "outputs": [],
   "source": [
    "predictions = model.predict(test)"
   ]
  },
  {
   "cell_type": "code",
   "execution_count": 12,
   "id": "244cd070",
   "metadata": {
    "execution": {
     "iopub.execute_input": "2024-03-08T17:18:35.813399Z",
     "iopub.status.busy": "2024-03-08T17:18:35.813003Z",
     "iopub.status.idle": "2024-03-08T17:18:35.847243Z",
     "shell.execute_reply": "2024-03-08T17:18:35.846274Z"
    },
    "papermill": {
     "duration": 0.043794,
     "end_time": "2024-03-08T17:18:35.848861",
     "exception": false,
     "start_time": "2024-03-08T17:18:35.805067",
     "status": "completed"
    },
    "tags": []
   },
   "outputs": [
    {
     "name": "stdout",
     "output_type": "stream",
     "text": [
      "              precision    recall  f1-score   support\n",
      "\n",
      "         0.0     0.9912    0.9367    0.9632     18118\n",
      "         1.0     0.4225    0.8237    0.5585       556\n",
      "         2.0     0.8861    0.9351    0.9099      1448\n",
      "         3.0     0.2780    0.9198    0.4269       162\n",
      "         4.0     0.9692    0.9770    0.9731      1608\n",
      "\n",
      "    accuracy                         0.9366     21892\n",
      "   macro avg     0.7094    0.9185    0.7663     21892\n",
      "weighted avg     0.9629    0.9366    0.9462     21892\n",
      "\n"
     ]
    }
   ],
   "source": [
    "report=classification_report(test_target, predictions, digits=4)\n",
    "print(report)"
   ]
  },
  {
   "cell_type": "markdown",
   "id": "66785f33",
   "metadata": {
    "papermill": {
     "duration": 0.006836,
     "end_time": "2024-03-08T17:18:35.863195",
     "exception": false,
     "start_time": "2024-03-08T17:18:35.856359",
     "status": "completed"
    },
    "tags": []
   },
   "source": [
    "# **KNN**"
   ]
  },
  {
   "cell_type": "code",
   "execution_count": 13,
   "id": "3784bfce",
   "metadata": {
    "execution": {
     "iopub.execute_input": "2024-03-08T17:18:35.878594Z",
     "iopub.status.busy": "2024-03-08T17:18:35.878298Z",
     "iopub.status.idle": "2024-03-08T17:18:35.881911Z",
     "shell.execute_reply": "2024-03-08T17:18:35.881200Z"
    },
    "papermill": {
     "duration": 0.013146,
     "end_time": "2024-03-08T17:18:35.883733",
     "exception": false,
     "start_time": "2024-03-08T17:18:35.870587",
     "status": "completed"
    },
    "tags": []
   },
   "outputs": [],
   "source": [
    "model = KNN(n_jobs = -1)"
   ]
  },
  {
   "cell_type": "code",
   "execution_count": 14,
   "id": "49909cc3",
   "metadata": {
    "execution": {
     "iopub.execute_input": "2024-03-08T17:18:35.899346Z",
     "iopub.status.busy": "2024-03-08T17:18:35.898634Z",
     "iopub.status.idle": "2024-03-08T17:18:36.160706Z",
     "shell.execute_reply": "2024-03-08T17:18:36.159859Z"
    },
    "papermill": {
     "duration": 0.271565,
     "end_time": "2024-03-08T17:18:36.162365",
     "exception": false,
     "start_time": "2024-03-08T17:18:35.890800",
     "status": "completed"
    },
    "tags": []
   },
   "outputs": [
    {
     "data": {
      "text/html": [
       "<style>#sk-container-id-2 {color: black;background-color: white;}#sk-container-id-2 pre{padding: 0;}#sk-container-id-2 div.sk-toggleable {background-color: white;}#sk-container-id-2 label.sk-toggleable__label {cursor: pointer;display: block;width: 100%;margin-bottom: 0;padding: 0.3em;box-sizing: border-box;text-align: center;}#sk-container-id-2 label.sk-toggleable__label-arrow:before {content: \"▸\";float: left;margin-right: 0.25em;color: #696969;}#sk-container-id-2 label.sk-toggleable__label-arrow:hover:before {color: black;}#sk-container-id-2 div.sk-estimator:hover label.sk-toggleable__label-arrow:before {color: black;}#sk-container-id-2 div.sk-toggleable__content {max-height: 0;max-width: 0;overflow: hidden;text-align: left;background-color: #f0f8ff;}#sk-container-id-2 div.sk-toggleable__content pre {margin: 0.2em;color: black;border-radius: 0.25em;background-color: #f0f8ff;}#sk-container-id-2 input.sk-toggleable__control:checked~div.sk-toggleable__content {max-height: 200px;max-width: 100%;overflow: auto;}#sk-container-id-2 input.sk-toggleable__control:checked~label.sk-toggleable__label-arrow:before {content: \"▾\";}#sk-container-id-2 div.sk-estimator input.sk-toggleable__control:checked~label.sk-toggleable__label {background-color: #d4ebff;}#sk-container-id-2 div.sk-label input.sk-toggleable__control:checked~label.sk-toggleable__label {background-color: #d4ebff;}#sk-container-id-2 input.sk-hidden--visually {border: 0;clip: rect(1px 1px 1px 1px);clip: rect(1px, 1px, 1px, 1px);height: 1px;margin: -1px;overflow: hidden;padding: 0;position: absolute;width: 1px;}#sk-container-id-2 div.sk-estimator {font-family: monospace;background-color: #f0f8ff;border: 1px dotted black;border-radius: 0.25em;box-sizing: border-box;margin-bottom: 0.5em;}#sk-container-id-2 div.sk-estimator:hover {background-color: #d4ebff;}#sk-container-id-2 div.sk-parallel-item::after {content: \"\";width: 100%;border-bottom: 1px solid gray;flex-grow: 1;}#sk-container-id-2 div.sk-label:hover label.sk-toggleable__label {background-color: #d4ebff;}#sk-container-id-2 div.sk-serial::before {content: \"\";position: absolute;border-left: 1px solid gray;box-sizing: border-box;top: 0;bottom: 0;left: 50%;z-index: 0;}#sk-container-id-2 div.sk-serial {display: flex;flex-direction: column;align-items: center;background-color: white;padding-right: 0.2em;padding-left: 0.2em;position: relative;}#sk-container-id-2 div.sk-item {position: relative;z-index: 1;}#sk-container-id-2 div.sk-parallel {display: flex;align-items: stretch;justify-content: center;background-color: white;position: relative;}#sk-container-id-2 div.sk-item::before, #sk-container-id-2 div.sk-parallel-item::before {content: \"\";position: absolute;border-left: 1px solid gray;box-sizing: border-box;top: 0;bottom: 0;left: 50%;z-index: -1;}#sk-container-id-2 div.sk-parallel-item {display: flex;flex-direction: column;z-index: 1;position: relative;background-color: white;}#sk-container-id-2 div.sk-parallel-item:first-child::after {align-self: flex-end;width: 50%;}#sk-container-id-2 div.sk-parallel-item:last-child::after {align-self: flex-start;width: 50%;}#sk-container-id-2 div.sk-parallel-item:only-child::after {width: 0;}#sk-container-id-2 div.sk-dashed-wrapped {border: 1px dashed gray;margin: 0 0.4em 0.5em 0.4em;box-sizing: border-box;padding-bottom: 0.4em;background-color: white;}#sk-container-id-2 div.sk-label label {font-family: monospace;font-weight: bold;display: inline-block;line-height: 1.2em;}#sk-container-id-2 div.sk-label-container {text-align: center;}#sk-container-id-2 div.sk-container {/* jupyter's `normalize.less` sets `[hidden] { display: none; }` but bootstrap.min.css set `[hidden] { display: none !important; }` so we also need the `!important` here to be able to override the default hidden behavior on the sphinx rendered scikit-learn.org. See: https://github.com/scikit-learn/scikit-learn/issues/21755 */display: inline-block !important;position: relative;}#sk-container-id-2 div.sk-text-repr-fallback {display: none;}</style><div id=\"sk-container-id-2\" class=\"sk-top-container\"><div class=\"sk-text-repr-fallback\"><pre>KNeighborsClassifier(n_jobs=-1)</pre><b>In a Jupyter environment, please rerun this cell to show the HTML representation or trust the notebook. <br />On GitHub, the HTML representation is unable to render, please try loading this page with nbviewer.org.</b></div><div class=\"sk-container\" hidden><div class=\"sk-item\"><div class=\"sk-estimator sk-toggleable\"><input class=\"sk-toggleable__control sk-hidden--visually\" id=\"sk-estimator-id-2\" type=\"checkbox\" checked><label for=\"sk-estimator-id-2\" class=\"sk-toggleable__label sk-toggleable__label-arrow\">KNeighborsClassifier</label><div class=\"sk-toggleable__content\"><pre>KNeighborsClassifier(n_jobs=-1)</pre></div></div></div></div></div>"
      ],
      "text/plain": [
       "KNeighborsClassifier(n_jobs=-1)"
      ]
     },
     "execution_count": 14,
     "metadata": {},
     "output_type": "execute_result"
    }
   ],
   "source": [
    "model.fit(train,train_target)"
   ]
  },
  {
   "cell_type": "code",
   "execution_count": 15,
   "id": "0e55096b",
   "metadata": {
    "execution": {
     "iopub.execute_input": "2024-03-08T17:18:36.178205Z",
     "iopub.status.busy": "2024-03-08T17:18:36.177908Z",
     "iopub.status.idle": "2024-03-08T17:29:36.237046Z",
     "shell.execute_reply": "2024-03-08T17:29:36.236205Z"
    },
    "papermill": {
     "duration": 660.076112,
     "end_time": "2024-03-08T17:29:36.245871",
     "exception": false,
     "start_time": "2024-03-08T17:18:36.169759",
     "status": "completed"
    },
    "tags": []
   },
   "outputs": [
    {
     "data": {
      "text/plain": [
       "0.993970001793821"
      ]
     },
     "execution_count": 15,
     "metadata": {},
     "output_type": "execute_result"
    }
   ],
   "source": [
    "model.score(train,train_target)"
   ]
  },
  {
   "cell_type": "code",
   "execution_count": 16,
   "id": "5150852e",
   "metadata": {
    "execution": {
     "iopub.execute_input": "2024-03-08T17:29:36.262513Z",
     "iopub.status.busy": "2024-03-08T17:29:36.261766Z",
     "iopub.status.idle": "2024-03-08T17:30:16.799269Z",
     "shell.execute_reply": "2024-03-08T17:30:16.798368Z"
    },
    "papermill": {
     "duration": 40.547956,
     "end_time": "2024-03-08T17:30:16.801620",
     "exception": false,
     "start_time": "2024-03-08T17:29:36.253664",
     "status": "completed"
    },
    "tags": []
   },
   "outputs": [],
   "source": [
    "predictions = model.predict(test)"
   ]
  },
  {
   "cell_type": "code",
   "execution_count": 17,
   "id": "b236dfa0",
   "metadata": {
    "execution": {
     "iopub.execute_input": "2024-03-08T17:30:16.817694Z",
     "iopub.status.busy": "2024-03-08T17:30:16.817378Z",
     "iopub.status.idle": "2024-03-08T17:30:16.851329Z",
     "shell.execute_reply": "2024-03-08T17:30:16.850461Z"
    },
    "papermill": {
     "duration": 0.043516,
     "end_time": "2024-03-08T17:30:16.852868",
     "exception": false,
     "start_time": "2024-03-08T17:30:16.809352",
     "status": "completed"
    },
    "tags": []
   },
   "outputs": [
    {
     "name": "stdout",
     "output_type": "stream",
     "text": [
      "              precision    recall  f1-score   support\n",
      "\n",
      "         0.0     0.9925    0.9593    0.9756     18118\n",
      "         1.0     0.5067    0.8165    0.6253       556\n",
      "         2.0     0.8704    0.9461    0.9067      1448\n",
      "         3.0     0.4892    0.8395    0.6182       162\n",
      "         4.0     0.9614    0.9751    0.9682      1608\n",
      "\n",
      "    accuracy                         0.9551     21892\n",
      "   macro avg     0.7640    0.9073    0.8188     21892\n",
      "weighted avg     0.9660    0.9551    0.9590     21892\n",
      "\n"
     ]
    }
   ],
   "source": [
    "report=classification_report(test_target, predictions, digits=4)\n",
    "print(report)"
   ]
  },
  {
   "cell_type": "markdown",
   "id": "278d4c36",
   "metadata": {
    "papermill": {
     "duration": 0.006902,
     "end_time": "2024-03-08T17:30:16.867283",
     "exception": false,
     "start_time": "2024-03-08T17:30:16.860381",
     "status": "completed"
    },
    "tags": []
   },
   "source": [
    "# **Decision Tree**"
   ]
  },
  {
   "cell_type": "code",
   "execution_count": 18,
   "id": "9ba3453f",
   "metadata": {
    "execution": {
     "iopub.execute_input": "2024-03-08T17:30:16.883819Z",
     "iopub.status.busy": "2024-03-08T17:30:16.883518Z",
     "iopub.status.idle": "2024-03-08T17:30:16.886952Z",
     "shell.execute_reply": "2024-03-08T17:30:16.886210Z"
    },
    "papermill": {
     "duration": 0.01312,
     "end_time": "2024-03-08T17:30:16.888499",
     "exception": false,
     "start_time": "2024-03-08T17:30:16.875379",
     "status": "completed"
    },
    "tags": []
   },
   "outputs": [],
   "source": [
    "model = DTC()"
   ]
  },
  {
   "cell_type": "code",
   "execution_count": 19,
   "id": "9a4a37fb",
   "metadata": {
    "execution": {
     "iopub.execute_input": "2024-03-08T17:30:16.904262Z",
     "iopub.status.busy": "2024-03-08T17:30:16.903818Z",
     "iopub.status.idle": "2024-03-08T17:34:11.369719Z",
     "shell.execute_reply": "2024-03-08T17:34:11.369161Z"
    },
    "papermill": {
     "duration": 234.482865,
     "end_time": "2024-03-08T17:34:11.378681",
     "exception": false,
     "start_time": "2024-03-08T17:30:16.895816",
     "status": "completed"
    },
    "tags": []
   },
   "outputs": [
    {
     "data": {
      "text/html": [
       "<style>#sk-container-id-3 {color: black;background-color: white;}#sk-container-id-3 pre{padding: 0;}#sk-container-id-3 div.sk-toggleable {background-color: white;}#sk-container-id-3 label.sk-toggleable__label {cursor: pointer;display: block;width: 100%;margin-bottom: 0;padding: 0.3em;box-sizing: border-box;text-align: center;}#sk-container-id-3 label.sk-toggleable__label-arrow:before {content: \"▸\";float: left;margin-right: 0.25em;color: #696969;}#sk-container-id-3 label.sk-toggleable__label-arrow:hover:before {color: black;}#sk-container-id-3 div.sk-estimator:hover label.sk-toggleable__label-arrow:before {color: black;}#sk-container-id-3 div.sk-toggleable__content {max-height: 0;max-width: 0;overflow: hidden;text-align: left;background-color: #f0f8ff;}#sk-container-id-3 div.sk-toggleable__content pre {margin: 0.2em;color: black;border-radius: 0.25em;background-color: #f0f8ff;}#sk-container-id-3 input.sk-toggleable__control:checked~div.sk-toggleable__content {max-height: 200px;max-width: 100%;overflow: auto;}#sk-container-id-3 input.sk-toggleable__control:checked~label.sk-toggleable__label-arrow:before {content: \"▾\";}#sk-container-id-3 div.sk-estimator input.sk-toggleable__control:checked~label.sk-toggleable__label {background-color: #d4ebff;}#sk-container-id-3 div.sk-label input.sk-toggleable__control:checked~label.sk-toggleable__label {background-color: #d4ebff;}#sk-container-id-3 input.sk-hidden--visually {border: 0;clip: rect(1px 1px 1px 1px);clip: rect(1px, 1px, 1px, 1px);height: 1px;margin: -1px;overflow: hidden;padding: 0;position: absolute;width: 1px;}#sk-container-id-3 div.sk-estimator {font-family: monospace;background-color: #f0f8ff;border: 1px dotted black;border-radius: 0.25em;box-sizing: border-box;margin-bottom: 0.5em;}#sk-container-id-3 div.sk-estimator:hover {background-color: #d4ebff;}#sk-container-id-3 div.sk-parallel-item::after {content: \"\";width: 100%;border-bottom: 1px solid gray;flex-grow: 1;}#sk-container-id-3 div.sk-label:hover label.sk-toggleable__label {background-color: #d4ebff;}#sk-container-id-3 div.sk-serial::before {content: \"\";position: absolute;border-left: 1px solid gray;box-sizing: border-box;top: 0;bottom: 0;left: 50%;z-index: 0;}#sk-container-id-3 div.sk-serial {display: flex;flex-direction: column;align-items: center;background-color: white;padding-right: 0.2em;padding-left: 0.2em;position: relative;}#sk-container-id-3 div.sk-item {position: relative;z-index: 1;}#sk-container-id-3 div.sk-parallel {display: flex;align-items: stretch;justify-content: center;background-color: white;position: relative;}#sk-container-id-3 div.sk-item::before, #sk-container-id-3 div.sk-parallel-item::before {content: \"\";position: absolute;border-left: 1px solid gray;box-sizing: border-box;top: 0;bottom: 0;left: 50%;z-index: -1;}#sk-container-id-3 div.sk-parallel-item {display: flex;flex-direction: column;z-index: 1;position: relative;background-color: white;}#sk-container-id-3 div.sk-parallel-item:first-child::after {align-self: flex-end;width: 50%;}#sk-container-id-3 div.sk-parallel-item:last-child::after {align-self: flex-start;width: 50%;}#sk-container-id-3 div.sk-parallel-item:only-child::after {width: 0;}#sk-container-id-3 div.sk-dashed-wrapped {border: 1px dashed gray;margin: 0 0.4em 0.5em 0.4em;box-sizing: border-box;padding-bottom: 0.4em;background-color: white;}#sk-container-id-3 div.sk-label label {font-family: monospace;font-weight: bold;display: inline-block;line-height: 1.2em;}#sk-container-id-3 div.sk-label-container {text-align: center;}#sk-container-id-3 div.sk-container {/* jupyter's `normalize.less` sets `[hidden] { display: none; }` but bootstrap.min.css set `[hidden] { display: none !important; }` so we also need the `!important` here to be able to override the default hidden behavior on the sphinx rendered scikit-learn.org. See: https://github.com/scikit-learn/scikit-learn/issues/21755 */display: inline-block !important;position: relative;}#sk-container-id-3 div.sk-text-repr-fallback {display: none;}</style><div id=\"sk-container-id-3\" class=\"sk-top-container\"><div class=\"sk-text-repr-fallback\"><pre>DecisionTreeClassifier()</pre><b>In a Jupyter environment, please rerun this cell to show the HTML representation or trust the notebook. <br />On GitHub, the HTML representation is unable to render, please try loading this page with nbviewer.org.</b></div><div class=\"sk-container\" hidden><div class=\"sk-item\"><div class=\"sk-estimator sk-toggleable\"><input class=\"sk-toggleable__control sk-hidden--visually\" id=\"sk-estimator-id-3\" type=\"checkbox\" checked><label for=\"sk-estimator-id-3\" class=\"sk-toggleable__label sk-toggleable__label-arrow\">DecisionTreeClassifier</label><div class=\"sk-toggleable__content\"><pre>DecisionTreeClassifier()</pre></div></div></div></div></div>"
      ],
      "text/plain": [
       "DecisionTreeClassifier()"
      ]
     },
     "execution_count": 19,
     "metadata": {},
     "output_type": "execute_result"
    }
   ],
   "source": [
    "model.fit(train,train_target)"
   ]
  },
  {
   "cell_type": "code",
   "execution_count": 20,
   "id": "c46fa207",
   "metadata": {
    "execution": {
     "iopub.execute_input": "2024-03-08T17:34:11.395259Z",
     "iopub.status.busy": "2024-03-08T17:34:11.394906Z",
     "iopub.status.idle": "2024-03-08T17:34:11.408836Z",
     "shell.execute_reply": "2024-03-08T17:34:11.408124Z"
    },
    "papermill": {
     "duration": 0.024547,
     "end_time": "2024-03-08T17:34:11.410611",
     "exception": false,
     "start_time": "2024-03-08T17:34:11.386064",
     "status": "completed"
    },
    "tags": []
   },
   "outputs": [],
   "source": [
    "predictions = model.predict(test)"
   ]
  },
  {
   "cell_type": "code",
   "execution_count": 21,
   "id": "157d2a98",
   "metadata": {
    "execution": {
     "iopub.execute_input": "2024-03-08T17:34:11.427742Z",
     "iopub.status.busy": "2024-03-08T17:34:11.427260Z",
     "iopub.status.idle": "2024-03-08T17:34:11.460627Z",
     "shell.execute_reply": "2024-03-08T17:34:11.459749Z"
    },
    "papermill": {
     "duration": 0.04384,
     "end_time": "2024-03-08T17:34:11.462417",
     "exception": false,
     "start_time": "2024-03-08T17:34:11.418577",
     "status": "completed"
    },
    "tags": []
   },
   "outputs": [
    {
     "name": "stdout",
     "output_type": "stream",
     "text": [
      "              precision    recall  f1-score   support\n",
      "\n",
      "         0.0     0.9821    0.9516    0.9666     18118\n",
      "         1.0     0.4743    0.7140    0.5700       556\n",
      "         2.0     0.8030    0.8978    0.8477      1448\n",
      "         3.0     0.4721    0.6790    0.5570       162\n",
      "         4.0     0.9314    0.9546    0.9429      1608\n",
      "\n",
      "    accuracy                         0.9402     21892\n",
      "   macro avg     0.7326    0.8394    0.7768     21892\n",
      "weighted avg     0.9499    0.9402    0.9439     21892\n",
      "\n"
     ]
    }
   ],
   "source": [
    "report=classification_report(test_target, predictions, digits=4)\n",
    "print(report)"
   ]
  },
  {
   "cell_type": "markdown",
   "id": "3a899a01",
   "metadata": {
    "papermill": {
     "duration": 0.007861,
     "end_time": "2024-03-08T17:34:11.478217",
     "exception": false,
     "start_time": "2024-03-08T17:34:11.470356",
     "status": "completed"
    },
    "tags": []
   },
   "source": [
    "# **Random Forest**"
   ]
  },
  {
   "cell_type": "code",
   "execution_count": 22,
   "id": "37e1a610",
   "metadata": {
    "execution": {
     "iopub.execute_input": "2024-03-08T17:34:11.495348Z",
     "iopub.status.busy": "2024-03-08T17:34:11.494517Z",
     "iopub.status.idle": "2024-03-08T17:34:11.498346Z",
     "shell.execute_reply": "2024-03-08T17:34:11.497634Z"
    },
    "papermill": {
     "duration": 0.014147,
     "end_time": "2024-03-08T17:34:11.500026",
     "exception": false,
     "start_time": "2024-03-08T17:34:11.485879",
     "status": "completed"
    },
    "tags": []
   },
   "outputs": [],
   "source": [
    "model = RFC(n_jobs = -1)"
   ]
  },
  {
   "cell_type": "code",
   "execution_count": 23,
   "id": "788473fe",
   "metadata": {
    "execution": {
     "iopub.execute_input": "2024-03-08T17:34:11.517064Z",
     "iopub.status.busy": "2024-03-08T17:34:11.516747Z",
     "iopub.status.idle": "2024-03-08T17:37:51.079959Z",
     "shell.execute_reply": "2024-03-08T17:37:51.079206Z"
    },
    "papermill": {
     "duration": 219.580768,
     "end_time": "2024-03-08T17:37:51.088634",
     "exception": false,
     "start_time": "2024-03-08T17:34:11.507866",
     "status": "completed"
    },
    "tags": []
   },
   "outputs": [
    {
     "data": {
      "text/html": [
       "<style>#sk-container-id-4 {color: black;background-color: white;}#sk-container-id-4 pre{padding: 0;}#sk-container-id-4 div.sk-toggleable {background-color: white;}#sk-container-id-4 label.sk-toggleable__label {cursor: pointer;display: block;width: 100%;margin-bottom: 0;padding: 0.3em;box-sizing: border-box;text-align: center;}#sk-container-id-4 label.sk-toggleable__label-arrow:before {content: \"▸\";float: left;margin-right: 0.25em;color: #696969;}#sk-container-id-4 label.sk-toggleable__label-arrow:hover:before {color: black;}#sk-container-id-4 div.sk-estimator:hover label.sk-toggleable__label-arrow:before {color: black;}#sk-container-id-4 div.sk-toggleable__content {max-height: 0;max-width: 0;overflow: hidden;text-align: left;background-color: #f0f8ff;}#sk-container-id-4 div.sk-toggleable__content pre {margin: 0.2em;color: black;border-radius: 0.25em;background-color: #f0f8ff;}#sk-container-id-4 input.sk-toggleable__control:checked~div.sk-toggleable__content {max-height: 200px;max-width: 100%;overflow: auto;}#sk-container-id-4 input.sk-toggleable__control:checked~label.sk-toggleable__label-arrow:before {content: \"▾\";}#sk-container-id-4 div.sk-estimator input.sk-toggleable__control:checked~label.sk-toggleable__label {background-color: #d4ebff;}#sk-container-id-4 div.sk-label input.sk-toggleable__control:checked~label.sk-toggleable__label {background-color: #d4ebff;}#sk-container-id-4 input.sk-hidden--visually {border: 0;clip: rect(1px 1px 1px 1px);clip: rect(1px, 1px, 1px, 1px);height: 1px;margin: -1px;overflow: hidden;padding: 0;position: absolute;width: 1px;}#sk-container-id-4 div.sk-estimator {font-family: monospace;background-color: #f0f8ff;border: 1px dotted black;border-radius: 0.25em;box-sizing: border-box;margin-bottom: 0.5em;}#sk-container-id-4 div.sk-estimator:hover {background-color: #d4ebff;}#sk-container-id-4 div.sk-parallel-item::after {content: \"\";width: 100%;border-bottom: 1px solid gray;flex-grow: 1;}#sk-container-id-4 div.sk-label:hover label.sk-toggleable__label {background-color: #d4ebff;}#sk-container-id-4 div.sk-serial::before {content: \"\";position: absolute;border-left: 1px solid gray;box-sizing: border-box;top: 0;bottom: 0;left: 50%;z-index: 0;}#sk-container-id-4 div.sk-serial {display: flex;flex-direction: column;align-items: center;background-color: white;padding-right: 0.2em;padding-left: 0.2em;position: relative;}#sk-container-id-4 div.sk-item {position: relative;z-index: 1;}#sk-container-id-4 div.sk-parallel {display: flex;align-items: stretch;justify-content: center;background-color: white;position: relative;}#sk-container-id-4 div.sk-item::before, #sk-container-id-4 div.sk-parallel-item::before {content: \"\";position: absolute;border-left: 1px solid gray;box-sizing: border-box;top: 0;bottom: 0;left: 50%;z-index: -1;}#sk-container-id-4 div.sk-parallel-item {display: flex;flex-direction: column;z-index: 1;position: relative;background-color: white;}#sk-container-id-4 div.sk-parallel-item:first-child::after {align-self: flex-end;width: 50%;}#sk-container-id-4 div.sk-parallel-item:last-child::after {align-self: flex-start;width: 50%;}#sk-container-id-4 div.sk-parallel-item:only-child::after {width: 0;}#sk-container-id-4 div.sk-dashed-wrapped {border: 1px dashed gray;margin: 0 0.4em 0.5em 0.4em;box-sizing: border-box;padding-bottom: 0.4em;background-color: white;}#sk-container-id-4 div.sk-label label {font-family: monospace;font-weight: bold;display: inline-block;line-height: 1.2em;}#sk-container-id-4 div.sk-label-container {text-align: center;}#sk-container-id-4 div.sk-container {/* jupyter's `normalize.less` sets `[hidden] { display: none; }` but bootstrap.min.css set `[hidden] { display: none !important; }` so we also need the `!important` here to be able to override the default hidden behavior on the sphinx rendered scikit-learn.org. See: https://github.com/scikit-learn/scikit-learn/issues/21755 */display: inline-block !important;position: relative;}#sk-container-id-4 div.sk-text-repr-fallback {display: none;}</style><div id=\"sk-container-id-4\" class=\"sk-top-container\"><div class=\"sk-text-repr-fallback\"><pre>RandomForestClassifier(n_jobs=-1)</pre><b>In a Jupyter environment, please rerun this cell to show the HTML representation or trust the notebook. <br />On GitHub, the HTML representation is unable to render, please try loading this page with nbviewer.org.</b></div><div class=\"sk-container\" hidden><div class=\"sk-item\"><div class=\"sk-estimator sk-toggleable\"><input class=\"sk-toggleable__control sk-hidden--visually\" id=\"sk-estimator-id-4\" type=\"checkbox\" checked><label for=\"sk-estimator-id-4\" class=\"sk-toggleable__label sk-toggleable__label-arrow\">RandomForestClassifier</label><div class=\"sk-toggleable__content\"><pre>RandomForestClassifier(n_jobs=-1)</pre></div></div></div></div></div>"
      ],
      "text/plain": [
       "RandomForestClassifier(n_jobs=-1)"
      ]
     },
     "execution_count": 23,
     "metadata": {},
     "output_type": "execute_result"
    }
   ],
   "source": [
    "model.fit(train,train_target)"
   ]
  },
  {
   "cell_type": "code",
   "execution_count": 24,
   "id": "0e5b7443",
   "metadata": {
    "execution": {
     "iopub.execute_input": "2024-03-08T17:37:51.105517Z",
     "iopub.status.busy": "2024-03-08T17:37:51.105195Z",
     "iopub.status.idle": "2024-03-08T17:37:53.677805Z",
     "shell.execute_reply": "2024-03-08T17:37:53.677219Z"
    },
    "papermill": {
     "duration": 2.582824,
     "end_time": "2024-03-08T17:37:53.679443",
     "exception": false,
     "start_time": "2024-03-08T17:37:51.096619",
     "status": "completed"
    },
    "tags": []
   },
   "outputs": [
    {
     "data": {
      "text/plain": [
       "1.0"
      ]
     },
     "execution_count": 24,
     "metadata": {},
     "output_type": "execute_result"
    }
   ],
   "source": [
    "model.score(train,train_target)"
   ]
  },
  {
   "cell_type": "code",
   "execution_count": 25,
   "id": "4f8480c3",
   "metadata": {
    "execution": {
     "iopub.execute_input": "2024-03-08T17:37:53.697035Z",
     "iopub.status.busy": "2024-03-08T17:37:53.696739Z",
     "iopub.status.idle": "2024-03-08T17:37:53.895530Z",
     "shell.execute_reply": "2024-03-08T17:37:53.894656Z"
    },
    "papermill": {
     "duration": 0.209937,
     "end_time": "2024-03-08T17:37:53.897499",
     "exception": false,
     "start_time": "2024-03-08T17:37:53.687562",
     "status": "completed"
    },
    "tags": []
   },
   "outputs": [],
   "source": [
    "predictions = model.predict(test)"
   ]
  },
  {
   "cell_type": "code",
   "execution_count": 26,
   "id": "e2cd6ef8",
   "metadata": {
    "execution": {
     "iopub.execute_input": "2024-03-08T17:37:53.914404Z",
     "iopub.status.busy": "2024-03-08T17:37:53.914114Z",
     "iopub.status.idle": "2024-03-08T17:37:53.945427Z",
     "shell.execute_reply": "2024-03-08T17:37:53.944649Z"
    },
    "papermill": {
     "duration": 0.041228,
     "end_time": "2024-03-08T17:37:53.946864",
     "exception": false,
     "start_time": "2024-03-08T17:37:53.905636",
     "status": "completed"
    },
    "tags": []
   },
   "outputs": [
    {
     "name": "stdout",
     "output_type": "stream",
     "text": [
      "              precision    recall  f1-score   support\n",
      "\n",
      "         0.0     0.9860    0.9939    0.9899     18118\n",
      "         1.0     0.8707    0.7752    0.8202       556\n",
      "         2.0     0.9652    0.9385    0.9517      1448\n",
      "         3.0     0.8079    0.7531    0.7796       162\n",
      "         4.0     0.9892    0.9695    0.9793      1608\n",
      "\n",
      "    accuracy                         0.9811     21892\n",
      "   macro avg     0.9238    0.8860    0.9041     21892\n",
      "weighted avg     0.9806    0.9811    0.9808     21892\n",
      "\n"
     ]
    }
   ],
   "source": [
    "report=classification_report(test_target, predictions, digits=4)\n",
    "print(report)"
   ]
  },
  {
   "cell_type": "markdown",
   "id": "199ef92a",
   "metadata": {
    "papermill": {
     "duration": 0.007353,
     "end_time": "2024-03-08T17:37:53.962258",
     "exception": false,
     "start_time": "2024-03-08T17:37:53.954905",
     "status": "completed"
    },
    "tags": []
   },
   "source": [
    "# **XGBoost**"
   ]
  },
  {
   "cell_type": "code",
   "execution_count": 27,
   "id": "5a866d4e",
   "metadata": {
    "execution": {
     "iopub.execute_input": "2024-03-08T17:37:53.978948Z",
     "iopub.status.busy": "2024-03-08T17:37:53.978443Z",
     "iopub.status.idle": "2024-03-08T17:37:53.981708Z",
     "shell.execute_reply": "2024-03-08T17:37:53.981176Z"
    },
    "papermill": {
     "duration": 0.013253,
     "end_time": "2024-03-08T17:37:53.983124",
     "exception": false,
     "start_time": "2024-03-08T17:37:53.969871",
     "status": "completed"
    },
    "tags": []
   },
   "outputs": [],
   "source": [
    "model = XGB.XGBClassifier(objective='binary:logistic')"
   ]
  },
  {
   "cell_type": "code",
   "execution_count": 28,
   "id": "3ec1906d",
   "metadata": {
    "execution": {
     "iopub.execute_input": "2024-03-08T17:37:53.999757Z",
     "iopub.status.busy": "2024-03-08T17:37:53.999249Z",
     "iopub.status.idle": "2024-03-08T17:39:47.568514Z",
     "shell.execute_reply": "2024-03-08T17:39:47.567939Z"
    },
    "papermill": {
     "duration": 113.587219,
     "end_time": "2024-03-08T17:39:47.577937",
     "exception": false,
     "start_time": "2024-03-08T17:37:53.990718",
     "status": "completed"
    },
    "tags": []
   },
   "outputs": [
    {
     "data": {
      "text/html": [
       "<style>#sk-container-id-5 {color: black;background-color: white;}#sk-container-id-5 pre{padding: 0;}#sk-container-id-5 div.sk-toggleable {background-color: white;}#sk-container-id-5 label.sk-toggleable__label {cursor: pointer;display: block;width: 100%;margin-bottom: 0;padding: 0.3em;box-sizing: border-box;text-align: center;}#sk-container-id-5 label.sk-toggleable__label-arrow:before {content: \"▸\";float: left;margin-right: 0.25em;color: #696969;}#sk-container-id-5 label.sk-toggleable__label-arrow:hover:before {color: black;}#sk-container-id-5 div.sk-estimator:hover label.sk-toggleable__label-arrow:before {color: black;}#sk-container-id-5 div.sk-toggleable__content {max-height: 0;max-width: 0;overflow: hidden;text-align: left;background-color: #f0f8ff;}#sk-container-id-5 div.sk-toggleable__content pre {margin: 0.2em;color: black;border-radius: 0.25em;background-color: #f0f8ff;}#sk-container-id-5 input.sk-toggleable__control:checked~div.sk-toggleable__content {max-height: 200px;max-width: 100%;overflow: auto;}#sk-container-id-5 input.sk-toggleable__control:checked~label.sk-toggleable__label-arrow:before {content: \"▾\";}#sk-container-id-5 div.sk-estimator input.sk-toggleable__control:checked~label.sk-toggleable__label {background-color: #d4ebff;}#sk-container-id-5 div.sk-label input.sk-toggleable__control:checked~label.sk-toggleable__label {background-color: #d4ebff;}#sk-container-id-5 input.sk-hidden--visually {border: 0;clip: rect(1px 1px 1px 1px);clip: rect(1px, 1px, 1px, 1px);height: 1px;margin: -1px;overflow: hidden;padding: 0;position: absolute;width: 1px;}#sk-container-id-5 div.sk-estimator {font-family: monospace;background-color: #f0f8ff;border: 1px dotted black;border-radius: 0.25em;box-sizing: border-box;margin-bottom: 0.5em;}#sk-container-id-5 div.sk-estimator:hover {background-color: #d4ebff;}#sk-container-id-5 div.sk-parallel-item::after {content: \"\";width: 100%;border-bottom: 1px solid gray;flex-grow: 1;}#sk-container-id-5 div.sk-label:hover label.sk-toggleable__label {background-color: #d4ebff;}#sk-container-id-5 div.sk-serial::before {content: \"\";position: absolute;border-left: 1px solid gray;box-sizing: border-box;top: 0;bottom: 0;left: 50%;z-index: 0;}#sk-container-id-5 div.sk-serial {display: flex;flex-direction: column;align-items: center;background-color: white;padding-right: 0.2em;padding-left: 0.2em;position: relative;}#sk-container-id-5 div.sk-item {position: relative;z-index: 1;}#sk-container-id-5 div.sk-parallel {display: flex;align-items: stretch;justify-content: center;background-color: white;position: relative;}#sk-container-id-5 div.sk-item::before, #sk-container-id-5 div.sk-parallel-item::before {content: \"\";position: absolute;border-left: 1px solid gray;box-sizing: border-box;top: 0;bottom: 0;left: 50%;z-index: -1;}#sk-container-id-5 div.sk-parallel-item {display: flex;flex-direction: column;z-index: 1;position: relative;background-color: white;}#sk-container-id-5 div.sk-parallel-item:first-child::after {align-self: flex-end;width: 50%;}#sk-container-id-5 div.sk-parallel-item:last-child::after {align-self: flex-start;width: 50%;}#sk-container-id-5 div.sk-parallel-item:only-child::after {width: 0;}#sk-container-id-5 div.sk-dashed-wrapped {border: 1px dashed gray;margin: 0 0.4em 0.5em 0.4em;box-sizing: border-box;padding-bottom: 0.4em;background-color: white;}#sk-container-id-5 div.sk-label label {font-family: monospace;font-weight: bold;display: inline-block;line-height: 1.2em;}#sk-container-id-5 div.sk-label-container {text-align: center;}#sk-container-id-5 div.sk-container {/* jupyter's `normalize.less` sets `[hidden] { display: none; }` but bootstrap.min.css set `[hidden] { display: none !important; }` so we also need the `!important` here to be able to override the default hidden behavior on the sphinx rendered scikit-learn.org. See: https://github.com/scikit-learn/scikit-learn/issues/21755 */display: inline-block !important;position: relative;}#sk-container-id-5 div.sk-text-repr-fallback {display: none;}</style><div id=\"sk-container-id-5\" class=\"sk-top-container\"><div class=\"sk-text-repr-fallback\"><pre>XGBClassifier(base_score=None, booster=None, callbacks=None,\n",
       "              colsample_bylevel=None, colsample_bynode=None,\n",
       "              colsample_bytree=None, device=None, early_stopping_rounds=None,\n",
       "              enable_categorical=False, eval_metric=None, feature_types=None,\n",
       "              gamma=None, grow_policy=None, importance_type=None,\n",
       "              interaction_constraints=None, learning_rate=None, max_bin=None,\n",
       "              max_cat_threshold=None, max_cat_to_onehot=None,\n",
       "              max_delta_step=None, max_depth=None, max_leaves=None,\n",
       "              min_child_weight=None, missing=nan, monotone_constraints=None,\n",
       "              multi_strategy=None, n_estimators=None, n_jobs=None,\n",
       "              num_parallel_tree=None, objective=&#x27;multi:softprob&#x27;, ...)</pre><b>In a Jupyter environment, please rerun this cell to show the HTML representation or trust the notebook. <br />On GitHub, the HTML representation is unable to render, please try loading this page with nbviewer.org.</b></div><div class=\"sk-container\" hidden><div class=\"sk-item\"><div class=\"sk-estimator sk-toggleable\"><input class=\"sk-toggleable__control sk-hidden--visually\" id=\"sk-estimator-id-5\" type=\"checkbox\" checked><label for=\"sk-estimator-id-5\" class=\"sk-toggleable__label sk-toggleable__label-arrow\">XGBClassifier</label><div class=\"sk-toggleable__content\"><pre>XGBClassifier(base_score=None, booster=None, callbacks=None,\n",
       "              colsample_bylevel=None, colsample_bynode=None,\n",
       "              colsample_bytree=None, device=None, early_stopping_rounds=None,\n",
       "              enable_categorical=False, eval_metric=None, feature_types=None,\n",
       "              gamma=None, grow_policy=None, importance_type=None,\n",
       "              interaction_constraints=None, learning_rate=None, max_bin=None,\n",
       "              max_cat_threshold=None, max_cat_to_onehot=None,\n",
       "              max_delta_step=None, max_depth=None, max_leaves=None,\n",
       "              min_child_weight=None, missing=nan, monotone_constraints=None,\n",
       "              multi_strategy=None, n_estimators=None, n_jobs=None,\n",
       "              num_parallel_tree=None, objective=&#x27;multi:softprob&#x27;, ...)</pre></div></div></div></div></div>"
      ],
      "text/plain": [
       "XGBClassifier(base_score=None, booster=None, callbacks=None,\n",
       "              colsample_bylevel=None, colsample_bynode=None,\n",
       "              colsample_bytree=None, device=None, early_stopping_rounds=None,\n",
       "              enable_categorical=False, eval_metric=None, feature_types=None,\n",
       "              gamma=None, grow_policy=None, importance_type=None,\n",
       "              interaction_constraints=None, learning_rate=None, max_bin=None,\n",
       "              max_cat_threshold=None, max_cat_to_onehot=None,\n",
       "              max_delta_step=None, max_depth=None, max_leaves=None,\n",
       "              min_child_weight=None, missing=nan, monotone_constraints=None,\n",
       "              multi_strategy=None, n_estimators=None, n_jobs=None,\n",
       "              num_parallel_tree=None, objective='multi:softprob', ...)"
      ]
     },
     "execution_count": 28,
     "metadata": {},
     "output_type": "execute_result"
    }
   ],
   "source": [
    "model.fit(train,train_target)"
   ]
  },
  {
   "cell_type": "code",
   "execution_count": 29,
   "id": "911a6abf",
   "metadata": {
    "execution": {
     "iopub.execute_input": "2024-03-08T17:39:47.595519Z",
     "iopub.status.busy": "2024-03-08T17:39:47.595014Z",
     "iopub.status.idle": "2024-03-08T17:39:49.543614Z",
     "shell.execute_reply": "2024-03-08T17:39:49.542843Z"
    },
    "papermill": {
     "duration": 1.959439,
     "end_time": "2024-03-08T17:39:49.545308",
     "exception": false,
     "start_time": "2024-03-08T17:39:47.585869",
     "status": "completed"
    },
    "tags": []
   },
   "outputs": [
    {
     "data": {
      "text/plain": [
       "0.9952725917953388"
      ]
     },
     "execution_count": 29,
     "metadata": {},
     "output_type": "execute_result"
    }
   ],
   "source": [
    "model.score(train,train_target)"
   ]
  },
  {
   "cell_type": "code",
   "execution_count": 30,
   "id": "31bb4b06",
   "metadata": {
    "execution": {
     "iopub.execute_input": "2024-03-08T17:39:49.563562Z",
     "iopub.status.busy": "2024-03-08T17:39:49.563073Z",
     "iopub.status.idle": "2024-03-08T17:39:49.698403Z",
     "shell.execute_reply": "2024-03-08T17:39:49.697687Z"
    },
    "papermill": {
     "duration": 0.146609,
     "end_time": "2024-03-08T17:39:49.700411",
     "exception": false,
     "start_time": "2024-03-08T17:39:49.553802",
     "status": "completed"
    },
    "tags": []
   },
   "outputs": [],
   "source": [
    "predictions = model.predict(test)"
   ]
  },
  {
   "cell_type": "code",
   "execution_count": 31,
   "id": "e411fb4c",
   "metadata": {
    "execution": {
     "iopub.execute_input": "2024-03-08T17:39:49.718545Z",
     "iopub.status.busy": "2024-03-08T17:39:49.718273Z",
     "iopub.status.idle": "2024-03-08T17:39:49.747010Z",
     "shell.execute_reply": "2024-03-08T17:39:49.746383Z"
    },
    "papermill": {
     "duration": 0.039332,
     "end_time": "2024-03-08T17:39:49.748586",
     "exception": false,
     "start_time": "2024-03-08T17:39:49.709254",
     "status": "completed"
    },
    "tags": []
   },
   "outputs": [
    {
     "name": "stdout",
     "output_type": "stream",
     "text": [
      "              precision    recall  f1-score   support\n",
      "\n",
      "         0.0     0.9894    0.9758    0.9825     18118\n",
      "         1.0     0.6134    0.8076    0.6972       556\n",
      "         2.0     0.9318    0.9434    0.9375      1448\n",
      "         3.0     0.5877    0.8272    0.6872       162\n",
      "         4.0     0.9850    0.9782    0.9816      1608\n",
      "\n",
      "    accuracy                         0.9684     21892\n",
      "   macro avg     0.8214    0.9064    0.8572     21892\n",
      "weighted avg     0.9727    0.9684    0.9700     21892\n",
      "\n"
     ]
    }
   ],
   "source": [
    "report=classification_report(test_target, predictions, digits=4)\n",
    "print(report)"
   ]
  },
  {
   "cell_type": "code",
   "execution_count": null,
   "id": "6731cc8c",
   "metadata": {
    "papermill": {
     "duration": 0.007832,
     "end_time": "2024-03-08T17:39:49.764663",
     "exception": false,
     "start_time": "2024-03-08T17:39:49.756831",
     "status": "completed"
    },
    "tags": []
   },
   "outputs": [],
   "source": []
  }
 ],
 "metadata": {
  "kaggle": {
   "accelerator": "none",
   "dataSources": [
    {
     "datasetId": 29414,
     "sourceId": 37484,
     "sourceType": "datasetVersion"
    }
   ],
   "dockerImageVersionId": 30626,
   "isGpuEnabled": false,
   "isInternetEnabled": true,
   "language": "python",
   "sourceType": "notebook"
  },
  "kernelspec": {
   "display_name": "Python 3",
   "language": "python",
   "name": "python3"
  },
  "language_info": {
   "codemirror_mode": {
    "name": "ipython",
    "version": 3
   },
   "file_extension": ".py",
   "mimetype": "text/x-python",
   "name": "python",
   "nbconvert_exporter": "python",
   "pygments_lexer": "ipython3",
   "version": "3.11.0rc1"
  },
  "papermill": {
   "default_parameters": {},
   "duration": 3755.277893,
   "end_time": "2024-03-08T17:39:50.297430",
   "environment_variables": {},
   "exception": null,
   "input_path": "__notebook__.ipynb",
   "output_path": "__notebook__.ipynb",
   "parameters": {},
   "start_time": "2024-03-08T16:37:15.019537",
   "version": "2.4.0"
  }
 },
 "nbformat": 4,
 "nbformat_minor": 5
}
