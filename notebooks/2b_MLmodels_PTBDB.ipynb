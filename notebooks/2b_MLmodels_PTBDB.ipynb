{
 "cells": [
  {
   "cell_type": "code",
   "execution_count": 1,
   "id": "5ee4ebc0",
   "metadata": {
    "_cell_guid": "b1076dfc-b9ad-4769-8c92-a6c4dae69d19",
    "_uuid": "8f2839f25d086af736a60e9eeb907d3b93b6e0e5",
    "execution": {
     "iopub.execute_input": "2024-03-08T19:44:40.180264Z",
     "iopub.status.busy": "2024-03-08T19:44:40.179864Z",
     "iopub.status.idle": "2024-03-08T19:44:43.390911Z",
     "shell.execute_reply": "2024-03-08T19:44:43.389524Z"
    },
    "papermill": {
     "duration": 3.228191,
     "end_time": "2024-03-08T19:44:43.393819",
     "exception": false,
     "start_time": "2024-03-08T19:44:40.165628",
     "status": "completed"
    },
    "tags": []
   },
   "outputs": [
    {
     "name": "stdout",
     "output_type": "stream",
     "text": [
      "/kaggle/input/heartbeat/ptbdb_abnormal.csv\n",
      "/kaggle/input/heartbeat/ptbdb_normal.csv\n",
      "/kaggle/input/heartbeat/mitbih_test.csv\n",
      "/kaggle/input/heartbeat/mitbih_train.csv\n"
     ]
    }
   ],
   "source": [
    "# This Python 3 environment comes with many helpful analytics libraries installed\n",
    "# It is defined by the kaggle/python Docker image: https://github.com/kaggle/docker-python\n",
    "# For example, here's several helpful packages to load\n",
    "\n",
    "import numpy as np # linear algebra\n",
    "import pandas as pd # data processing, CSV file I/O (e.g. pd.read_csv)\n",
    "from sklearn.model_selection import train_test_split\n",
    "from imblearn.over_sampling import SMOTE\n",
    "from imblearn.under_sampling import RandomUnderSampler\n",
    "from sklearn.metrics import accuracy_score, classification_report\n",
    "\n",
    "from sklearn.svm import SVC\n",
    "from sklearn.tree import DecisionTreeClassifier as DTC\n",
    "from sklearn.ensemble import RandomForestClassifier as RFC\n",
    "from sklearn.neighbors import KNeighborsClassifier as KNN\n",
    "import xgboost as XGB\n",
    "\n",
    "# Input data files are available in the read-only \"../input/\" directory\n",
    "# For example, running this (by clicking run or pressing Shift+Enter) will list all files under the input directory\n",
    "\n",
    "import os\n",
    "for dirname, _, filenames in os.walk('/kaggle/input'):\n",
    "    for filename in filenames:\n",
    "        print(os.path.join(dirname, filename))\n",
    "\n",
    "# You can write up to 20GB to the current directory (/kaggle/working/) that gets preserved as output when you create a version using \"Save & Run All\" \n",
    "# You can also write temporary files to /kaggle/temp/, but they won't be saved outside of the current session"
   ]
  },
  {
   "cell_type": "code",
   "execution_count": 2,
   "id": "a63a020a",
   "metadata": {
    "execution": {
     "iopub.execute_input": "2024-03-08T19:44:43.419755Z",
     "iopub.status.busy": "2024-03-08T19:44:43.419203Z",
     "iopub.status.idle": "2024-03-08T19:44:43.424620Z",
     "shell.execute_reply": "2024-03-08T19:44:43.423364Z"
    },
    "papermill": {
     "duration": 0.021105,
     "end_time": "2024-03-08T19:44:43.426745",
     "exception": false,
     "start_time": "2024-03-08T19:44:43.405640",
     "status": "completed"
    },
    "tags": []
   },
   "outputs": [],
   "source": [
    "np.set_printoptions(precision=4)"
   ]
  },
  {
   "cell_type": "code",
   "execution_count": 3,
   "id": "eb7976fd",
   "metadata": {
    "execution": {
     "iopub.execute_input": "2024-03-08T19:44:43.452214Z",
     "iopub.status.busy": "2024-03-08T19:44:43.451260Z",
     "iopub.status.idle": "2024-03-08T19:44:45.018326Z",
     "shell.execute_reply": "2024-03-08T19:44:45.017357Z"
    },
    "papermill": {
     "duration": 1.582728,
     "end_time": "2024-03-08T19:44:45.021165",
     "exception": false,
     "start_time": "2024-03-08T19:44:43.438437",
     "status": "completed"
    },
    "tags": []
   },
   "outputs": [],
   "source": [
    "ptbdb_normal= pd.read_csv('/kaggle/input/heartbeat/ptbdb_normal.csv', header=None)\n",
    "ptbdb_abnormal=pd.read_csv('/kaggle/input/heartbeat/ptbdb_abnormal.csv',header=None)\n",
    "\n",
    "ptbdb_combined = pd.concat([ptbdb_normal, ptbdb_abnormal], ignore_index=True, axis=0)\n",
    "\n",
    "#Reshuffle the whole new dataframe\n",
    "ptbdb_combined_shuffled = ptbdb_combined.sample(frac=1, random_state=42)\n",
    "\n",
    "#Generate Test and Train datasets\n",
    "X = ptbdb_combined_shuffled.iloc[:, :-1] #All values except the last column\n",
    "y = ptbdb_combined_shuffled.iloc[:, -1] #All values from the last column\n",
    "\n",
    "train, test, train_target, test_target = train_test_split(X, y, test_size=0.20, random_state=42)"
   ]
  },
  {
   "cell_type": "code",
   "execution_count": 4,
   "id": "b47f4078",
   "metadata": {
    "execution": {
     "iopub.execute_input": "2024-03-08T19:44:45.046590Z",
     "iopub.status.busy": "2024-03-08T19:44:45.045632Z",
     "iopub.status.idle": "2024-03-08T19:44:45.050665Z",
     "shell.execute_reply": "2024-03-08T19:44:45.049737Z"
    },
    "papermill": {
     "duration": 0.019945,
     "end_time": "2024-03-08T19:44:45.052854",
     "exception": false,
     "start_time": "2024-03-08T19:44:45.032909",
     "status": "completed"
    },
    "tags": []
   },
   "outputs": [],
   "source": [
    "class Config:\n",
    "    oversample = True\n",
    "    undersample = False"
   ]
  },
  {
   "cell_type": "code",
   "execution_count": 5,
   "id": "cd5480da",
   "metadata": {
    "execution": {
     "iopub.execute_input": "2024-03-08T19:44:45.077988Z",
     "iopub.status.busy": "2024-03-08T19:44:45.076910Z",
     "iopub.status.idle": "2024-03-08T19:44:45.082093Z",
     "shell.execute_reply": "2024-03-08T19:44:45.081306Z"
    },
    "papermill": {
     "duration": 0.019846,
     "end_time": "2024-03-08T19:44:45.084238",
     "exception": false,
     "start_time": "2024-03-08T19:44:45.064392",
     "status": "completed"
    },
    "tags": []
   },
   "outputs": [],
   "source": [
    "oversampler = SMOTE()\n",
    "undersampler = RandomUnderSampler()"
   ]
  },
  {
   "cell_type": "code",
   "execution_count": 6,
   "id": "76f8e1da",
   "metadata": {
    "execution": {
     "iopub.execute_input": "2024-03-08T19:44:45.108902Z",
     "iopub.status.busy": "2024-03-08T19:44:45.108209Z",
     "iopub.status.idle": "2024-03-08T19:44:45.402040Z",
     "shell.execute_reply": "2024-03-08T19:44:45.400786Z"
    },
    "papermill": {
     "duration": 0.309274,
     "end_time": "2024-03-08T19:44:45.404886",
     "exception": false,
     "start_time": "2024-03-08T19:44:45.095612",
     "status": "completed"
    },
    "tags": []
   },
   "outputs": [],
   "source": [
    "if Config.oversample:\n",
    "    train, train_target = oversampler.fit_resample(train, train_target)\n",
    "elif Config.undersample:\n",
    "    train, train_target = undersampler.fit_resample(train, train_target)\n",
    "else: \n",
    "    print(\"Using the original mitbih dataset\")"
   ]
  },
  {
   "cell_type": "code",
   "execution_count": 7,
   "id": "45018274",
   "metadata": {
    "execution": {
     "iopub.execute_input": "2024-03-08T19:44:45.429746Z",
     "iopub.status.busy": "2024-03-08T19:44:45.428967Z",
     "iopub.status.idle": "2024-03-08T19:44:45.437443Z",
     "shell.execute_reply": "2024-03-08T19:44:45.436329Z"
    },
    "papermill": {
     "duration": 0.023587,
     "end_time": "2024-03-08T19:44:45.439990",
     "exception": false,
     "start_time": "2024-03-08T19:44:45.416403",
     "status": "completed"
    },
    "tags": []
   },
   "outputs": [
    {
     "data": {
      "text/plain": [
       "(16800, 187)"
      ]
     },
     "execution_count": 7,
     "metadata": {},
     "output_type": "execute_result"
    }
   ],
   "source": [
    "train.shape"
   ]
  },
  {
   "cell_type": "markdown",
   "id": "1dcf7de9",
   "metadata": {
    "papermill": {
     "duration": 0.011083,
     "end_time": "2024-03-08T19:44:45.462683",
     "exception": false,
     "start_time": "2024-03-08T19:44:45.451600",
     "status": "completed"
    },
    "tags": []
   },
   "source": [
    "# **SVM**"
   ]
  },
  {
   "cell_type": "code",
   "execution_count": 8,
   "id": "2c0917be",
   "metadata": {
    "execution": {
     "iopub.execute_input": "2024-03-08T19:44:45.487868Z",
     "iopub.status.busy": "2024-03-08T19:44:45.486884Z",
     "iopub.status.idle": "2024-03-08T19:44:45.492048Z",
     "shell.execute_reply": "2024-03-08T19:44:45.491108Z"
    },
    "papermill": {
     "duration": 0.0201,
     "end_time": "2024-03-08T19:44:45.494209",
     "exception": false,
     "start_time": "2024-03-08T19:44:45.474109",
     "status": "completed"
    },
    "tags": []
   },
   "outputs": [],
   "source": [
    "model = SVC(cache_size=500)"
   ]
  },
  {
   "cell_type": "code",
   "execution_count": 9,
   "id": "36618a2e",
   "metadata": {
    "execution": {
     "iopub.execute_input": "2024-03-08T19:44:45.519348Z",
     "iopub.status.busy": "2024-03-08T19:44:45.518892Z",
     "iopub.status.idle": "2024-03-08T19:45:05.333184Z",
     "shell.execute_reply": "2024-03-08T19:45:05.331802Z"
    },
    "papermill": {
     "duration": 19.830296,
     "end_time": "2024-03-08T19:45:05.336201",
     "exception": false,
     "start_time": "2024-03-08T19:44:45.505905",
     "status": "completed"
    },
    "tags": []
   },
   "outputs": [
    {
     "data": {
      "text/html": [
       "<style>#sk-container-id-1 {color: black;background-color: white;}#sk-container-id-1 pre{padding: 0;}#sk-container-id-1 div.sk-toggleable {background-color: white;}#sk-container-id-1 label.sk-toggleable__label {cursor: pointer;display: block;width: 100%;margin-bottom: 0;padding: 0.3em;box-sizing: border-box;text-align: center;}#sk-container-id-1 label.sk-toggleable__label-arrow:before {content: \"▸\";float: left;margin-right: 0.25em;color: #696969;}#sk-container-id-1 label.sk-toggleable__label-arrow:hover:before {color: black;}#sk-container-id-1 div.sk-estimator:hover label.sk-toggleable__label-arrow:before {color: black;}#sk-container-id-1 div.sk-toggleable__content {max-height: 0;max-width: 0;overflow: hidden;text-align: left;background-color: #f0f8ff;}#sk-container-id-1 div.sk-toggleable__content pre {margin: 0.2em;color: black;border-radius: 0.25em;background-color: #f0f8ff;}#sk-container-id-1 input.sk-toggleable__control:checked~div.sk-toggleable__content {max-height: 200px;max-width: 100%;overflow: auto;}#sk-container-id-1 input.sk-toggleable__control:checked~label.sk-toggleable__label-arrow:before {content: \"▾\";}#sk-container-id-1 div.sk-estimator input.sk-toggleable__control:checked~label.sk-toggleable__label {background-color: #d4ebff;}#sk-container-id-1 div.sk-label input.sk-toggleable__control:checked~label.sk-toggleable__label {background-color: #d4ebff;}#sk-container-id-1 input.sk-hidden--visually {border: 0;clip: rect(1px 1px 1px 1px);clip: rect(1px, 1px, 1px, 1px);height: 1px;margin: -1px;overflow: hidden;padding: 0;position: absolute;width: 1px;}#sk-container-id-1 div.sk-estimator {font-family: monospace;background-color: #f0f8ff;border: 1px dotted black;border-radius: 0.25em;box-sizing: border-box;margin-bottom: 0.5em;}#sk-container-id-1 div.sk-estimator:hover {background-color: #d4ebff;}#sk-container-id-1 div.sk-parallel-item::after {content: \"\";width: 100%;border-bottom: 1px solid gray;flex-grow: 1;}#sk-container-id-1 div.sk-label:hover label.sk-toggleable__label {background-color: #d4ebff;}#sk-container-id-1 div.sk-serial::before {content: \"\";position: absolute;border-left: 1px solid gray;box-sizing: border-box;top: 0;bottom: 0;left: 50%;z-index: 0;}#sk-container-id-1 div.sk-serial {display: flex;flex-direction: column;align-items: center;background-color: white;padding-right: 0.2em;padding-left: 0.2em;position: relative;}#sk-container-id-1 div.sk-item {position: relative;z-index: 1;}#sk-container-id-1 div.sk-parallel {display: flex;align-items: stretch;justify-content: center;background-color: white;position: relative;}#sk-container-id-1 div.sk-item::before, #sk-container-id-1 div.sk-parallel-item::before {content: \"\";position: absolute;border-left: 1px solid gray;box-sizing: border-box;top: 0;bottom: 0;left: 50%;z-index: -1;}#sk-container-id-1 div.sk-parallel-item {display: flex;flex-direction: column;z-index: 1;position: relative;background-color: white;}#sk-container-id-1 div.sk-parallel-item:first-child::after {align-self: flex-end;width: 50%;}#sk-container-id-1 div.sk-parallel-item:last-child::after {align-self: flex-start;width: 50%;}#sk-container-id-1 div.sk-parallel-item:only-child::after {width: 0;}#sk-container-id-1 div.sk-dashed-wrapped {border: 1px dashed gray;margin: 0 0.4em 0.5em 0.4em;box-sizing: border-box;padding-bottom: 0.4em;background-color: white;}#sk-container-id-1 div.sk-label label {font-family: monospace;font-weight: bold;display: inline-block;line-height: 1.2em;}#sk-container-id-1 div.sk-label-container {text-align: center;}#sk-container-id-1 div.sk-container {/* jupyter's `normalize.less` sets `[hidden] { display: none; }` but bootstrap.min.css set `[hidden] { display: none !important; }` so we also need the `!important` here to be able to override the default hidden behavior on the sphinx rendered scikit-learn.org. See: https://github.com/scikit-learn/scikit-learn/issues/21755 */display: inline-block !important;position: relative;}#sk-container-id-1 div.sk-text-repr-fallback {display: none;}</style><div id=\"sk-container-id-1\" class=\"sk-top-container\"><div class=\"sk-text-repr-fallback\"><pre>SVC(cache_size=500)</pre><b>In a Jupyter environment, please rerun this cell to show the HTML representation or trust the notebook. <br />On GitHub, the HTML representation is unable to render, please try loading this page with nbviewer.org.</b></div><div class=\"sk-container\" hidden><div class=\"sk-item\"><div class=\"sk-estimator sk-toggleable\"><input class=\"sk-toggleable__control sk-hidden--visually\" id=\"sk-estimator-id-1\" type=\"checkbox\" checked><label for=\"sk-estimator-id-1\" class=\"sk-toggleable__label sk-toggleable__label-arrow\">SVC</label><div class=\"sk-toggleable__content\"><pre>SVC(cache_size=500)</pre></div></div></div></div></div>"
      ],
      "text/plain": [
       "SVC(cache_size=500)"
      ]
     },
     "execution_count": 9,
     "metadata": {},
     "output_type": "execute_result"
    }
   ],
   "source": [
    "model.fit(train,train_target)"
   ]
  },
  {
   "cell_type": "code",
   "execution_count": 10,
   "id": "f571b5c7",
   "metadata": {
    "execution": {
     "iopub.execute_input": "2024-03-08T19:45:05.367785Z",
     "iopub.status.busy": "2024-03-08T19:45:05.367331Z",
     "iopub.status.idle": "2024-03-08T19:45:05.372442Z",
     "shell.execute_reply": "2024-03-08T19:45:05.371198Z"
    },
    "papermill": {
     "duration": 0.021821,
     "end_time": "2024-03-08T19:45:05.375182",
     "exception": false,
     "start_time": "2024-03-08T19:45:05.353361",
     "status": "completed"
    },
    "tags": []
   },
   "outputs": [],
   "source": [
    "#model.score(train,train_target)"
   ]
  },
  {
   "cell_type": "code",
   "execution_count": 11,
   "id": "c5fc442c",
   "metadata": {
    "execution": {
     "iopub.execute_input": "2024-03-08T19:45:05.402044Z",
     "iopub.status.busy": "2024-03-08T19:45:05.401563Z",
     "iopub.status.idle": "2024-03-08T19:45:10.289765Z",
     "shell.execute_reply": "2024-03-08T19:45:10.288483Z"
    },
    "papermill": {
     "duration": 4.905405,
     "end_time": "2024-03-08T19:45:10.292660",
     "exception": false,
     "start_time": "2024-03-08T19:45:05.387255",
     "status": "completed"
    },
    "tags": []
   },
   "outputs": [],
   "source": [
    "predictions = model.predict(test)"
   ]
  },
  {
   "cell_type": "code",
   "execution_count": 12,
   "id": "1a3715bb",
   "metadata": {
    "execution": {
     "iopub.execute_input": "2024-03-08T19:45:10.318532Z",
     "iopub.status.busy": "2024-03-08T19:45:10.318146Z",
     "iopub.status.idle": "2024-03-08T19:45:10.340377Z",
     "shell.execute_reply": "2024-03-08T19:45:10.339094Z"
    },
    "papermill": {
     "duration": 0.038115,
     "end_time": "2024-03-08T19:45:10.342891",
     "exception": false,
     "start_time": "2024-03-08T19:45:10.304776",
     "status": "completed"
    },
    "tags": []
   },
   "outputs": [
    {
     "name": "stdout",
     "output_type": "stream",
     "text": [
      "              precision    recall  f1-score   support\n",
      "\n",
      "         0.0     0.7714    0.9304    0.8435       805\n",
      "         1.0     0.9711    0.8946    0.9313      2106\n",
      "\n",
      "    accuracy                         0.9045      2911\n",
      "   macro avg     0.8713    0.9125    0.8874      2911\n",
      "weighted avg     0.9159    0.9045    0.9070      2911\n",
      "\n"
     ]
    }
   ],
   "source": [
    "report=classification_report(test_target, predictions, digits=4)\n",
    "print(report)"
   ]
  },
  {
   "cell_type": "markdown",
   "id": "b067daf6",
   "metadata": {
    "papermill": {
     "duration": 0.013146,
     "end_time": "2024-03-08T19:45:10.368684",
     "exception": false,
     "start_time": "2024-03-08T19:45:10.355538",
     "status": "completed"
    },
    "tags": []
   },
   "source": [
    "# **KNN**"
   ]
  },
  {
   "cell_type": "code",
   "execution_count": 13,
   "id": "ef12f027",
   "metadata": {
    "execution": {
     "iopub.execute_input": "2024-03-08T19:45:10.395113Z",
     "iopub.status.busy": "2024-03-08T19:45:10.394673Z",
     "iopub.status.idle": "2024-03-08T19:45:10.400291Z",
     "shell.execute_reply": "2024-03-08T19:45:10.399002Z"
    },
    "papermill": {
     "duration": 0.020994,
     "end_time": "2024-03-08T19:45:10.402364",
     "exception": false,
     "start_time": "2024-03-08T19:45:10.381370",
     "status": "completed"
    },
    "tags": []
   },
   "outputs": [],
   "source": [
    "model = KNN(n_jobs = -1)"
   ]
  },
  {
   "cell_type": "code",
   "execution_count": 14,
   "id": "3f087b5d",
   "metadata": {
    "execution": {
     "iopub.execute_input": "2024-03-08T19:45:10.428182Z",
     "iopub.status.busy": "2024-03-08T19:45:10.427728Z",
     "iopub.status.idle": "2024-03-08T19:45:10.466031Z",
     "shell.execute_reply": "2024-03-08T19:45:10.464860Z"
    },
    "papermill": {
     "duration": 0.054143,
     "end_time": "2024-03-08T19:45:10.468511",
     "exception": false,
     "start_time": "2024-03-08T19:45:10.414368",
     "status": "completed"
    },
    "tags": []
   },
   "outputs": [
    {
     "data": {
      "text/html": [
       "<style>#sk-container-id-2 {color: black;background-color: white;}#sk-container-id-2 pre{padding: 0;}#sk-container-id-2 div.sk-toggleable {background-color: white;}#sk-container-id-2 label.sk-toggleable__label {cursor: pointer;display: block;width: 100%;margin-bottom: 0;padding: 0.3em;box-sizing: border-box;text-align: center;}#sk-container-id-2 label.sk-toggleable__label-arrow:before {content: \"▸\";float: left;margin-right: 0.25em;color: #696969;}#sk-container-id-2 label.sk-toggleable__label-arrow:hover:before {color: black;}#sk-container-id-2 div.sk-estimator:hover label.sk-toggleable__label-arrow:before {color: black;}#sk-container-id-2 div.sk-toggleable__content {max-height: 0;max-width: 0;overflow: hidden;text-align: left;background-color: #f0f8ff;}#sk-container-id-2 div.sk-toggleable__content pre {margin: 0.2em;color: black;border-radius: 0.25em;background-color: #f0f8ff;}#sk-container-id-2 input.sk-toggleable__control:checked~div.sk-toggleable__content {max-height: 200px;max-width: 100%;overflow: auto;}#sk-container-id-2 input.sk-toggleable__control:checked~label.sk-toggleable__label-arrow:before {content: \"▾\";}#sk-container-id-2 div.sk-estimator input.sk-toggleable__control:checked~label.sk-toggleable__label {background-color: #d4ebff;}#sk-container-id-2 div.sk-label input.sk-toggleable__control:checked~label.sk-toggleable__label {background-color: #d4ebff;}#sk-container-id-2 input.sk-hidden--visually {border: 0;clip: rect(1px 1px 1px 1px);clip: rect(1px, 1px, 1px, 1px);height: 1px;margin: -1px;overflow: hidden;padding: 0;position: absolute;width: 1px;}#sk-container-id-2 div.sk-estimator {font-family: monospace;background-color: #f0f8ff;border: 1px dotted black;border-radius: 0.25em;box-sizing: border-box;margin-bottom: 0.5em;}#sk-container-id-2 div.sk-estimator:hover {background-color: #d4ebff;}#sk-container-id-2 div.sk-parallel-item::after {content: \"\";width: 100%;border-bottom: 1px solid gray;flex-grow: 1;}#sk-container-id-2 div.sk-label:hover label.sk-toggleable__label {background-color: #d4ebff;}#sk-container-id-2 div.sk-serial::before {content: \"\";position: absolute;border-left: 1px solid gray;box-sizing: border-box;top: 0;bottom: 0;left: 50%;z-index: 0;}#sk-container-id-2 div.sk-serial {display: flex;flex-direction: column;align-items: center;background-color: white;padding-right: 0.2em;padding-left: 0.2em;position: relative;}#sk-container-id-2 div.sk-item {position: relative;z-index: 1;}#sk-container-id-2 div.sk-parallel {display: flex;align-items: stretch;justify-content: center;background-color: white;position: relative;}#sk-container-id-2 div.sk-item::before, #sk-container-id-2 div.sk-parallel-item::before {content: \"\";position: absolute;border-left: 1px solid gray;box-sizing: border-box;top: 0;bottom: 0;left: 50%;z-index: -1;}#sk-container-id-2 div.sk-parallel-item {display: flex;flex-direction: column;z-index: 1;position: relative;background-color: white;}#sk-container-id-2 div.sk-parallel-item:first-child::after {align-self: flex-end;width: 50%;}#sk-container-id-2 div.sk-parallel-item:last-child::after {align-self: flex-start;width: 50%;}#sk-container-id-2 div.sk-parallel-item:only-child::after {width: 0;}#sk-container-id-2 div.sk-dashed-wrapped {border: 1px dashed gray;margin: 0 0.4em 0.5em 0.4em;box-sizing: border-box;padding-bottom: 0.4em;background-color: white;}#sk-container-id-2 div.sk-label label {font-family: monospace;font-weight: bold;display: inline-block;line-height: 1.2em;}#sk-container-id-2 div.sk-label-container {text-align: center;}#sk-container-id-2 div.sk-container {/* jupyter's `normalize.less` sets `[hidden] { display: none; }` but bootstrap.min.css set `[hidden] { display: none !important; }` so we also need the `!important` here to be able to override the default hidden behavior on the sphinx rendered scikit-learn.org. See: https://github.com/scikit-learn/scikit-learn/issues/21755 */display: inline-block !important;position: relative;}#sk-container-id-2 div.sk-text-repr-fallback {display: none;}</style><div id=\"sk-container-id-2\" class=\"sk-top-container\"><div class=\"sk-text-repr-fallback\"><pre>KNeighborsClassifier(n_jobs=-1)</pre><b>In a Jupyter environment, please rerun this cell to show the HTML representation or trust the notebook. <br />On GitHub, the HTML representation is unable to render, please try loading this page with nbviewer.org.</b></div><div class=\"sk-container\" hidden><div class=\"sk-item\"><div class=\"sk-estimator sk-toggleable\"><input class=\"sk-toggleable__control sk-hidden--visually\" id=\"sk-estimator-id-2\" type=\"checkbox\" checked><label for=\"sk-estimator-id-2\" class=\"sk-toggleable__label sk-toggleable__label-arrow\">KNeighborsClassifier</label><div class=\"sk-toggleable__content\"><pre>KNeighborsClassifier(n_jobs=-1)</pre></div></div></div></div></div>"
      ],
      "text/plain": [
       "KNeighborsClassifier(n_jobs=-1)"
      ]
     },
     "execution_count": 14,
     "metadata": {},
     "output_type": "execute_result"
    }
   ],
   "source": [
    "model.fit(train,train_target)"
   ]
  },
  {
   "cell_type": "code",
   "execution_count": 15,
   "id": "c6b4be1d",
   "metadata": {
    "execution": {
     "iopub.execute_input": "2024-03-08T19:45:10.495008Z",
     "iopub.status.busy": "2024-03-08T19:45:10.494582Z",
     "iopub.status.idle": "2024-03-08T19:45:13.745605Z",
     "shell.execute_reply": "2024-03-08T19:45:13.744154Z"
    },
    "papermill": {
     "duration": 3.267651,
     "end_time": "2024-03-08T19:45:13.748329",
     "exception": false,
     "start_time": "2024-03-08T19:45:10.480678",
     "status": "completed"
    },
    "tags": []
   },
   "outputs": [
    {
     "data": {
      "text/plain": [
       "0.967202380952381"
      ]
     },
     "execution_count": 15,
     "metadata": {},
     "output_type": "execute_result"
    }
   ],
   "source": [
    "model.score(train,train_target)"
   ]
  },
  {
   "cell_type": "code",
   "execution_count": 16,
   "id": "809cf281",
   "metadata": {
    "execution": {
     "iopub.execute_input": "2024-03-08T19:45:13.775145Z",
     "iopub.status.busy": "2024-03-08T19:45:13.774738Z",
     "iopub.status.idle": "2024-03-08T19:45:14.365129Z",
     "shell.execute_reply": "2024-03-08T19:45:14.363994Z"
    },
    "papermill": {
     "duration": 0.607251,
     "end_time": "2024-03-08T19:45:14.368156",
     "exception": false,
     "start_time": "2024-03-08T19:45:13.760905",
     "status": "completed"
    },
    "tags": []
   },
   "outputs": [],
   "source": [
    "predictions = model.predict(test)"
   ]
  },
  {
   "cell_type": "code",
   "execution_count": 17,
   "id": "4fe6aad7",
   "metadata": {
    "execution": {
     "iopub.execute_input": "2024-03-08T19:45:14.395114Z",
     "iopub.status.busy": "2024-03-08T19:45:14.394695Z",
     "iopub.status.idle": "2024-03-08T19:45:14.416857Z",
     "shell.execute_reply": "2024-03-08T19:45:14.415248Z"
    },
    "papermill": {
     "duration": 0.038841,
     "end_time": "2024-03-08T19:45:14.419605",
     "exception": false,
     "start_time": "2024-03-08T19:45:14.380764",
     "status": "completed"
    },
    "tags": []
   },
   "outputs": [
    {
     "name": "stdout",
     "output_type": "stream",
     "text": [
      "              precision    recall  f1-score   support\n",
      "\n",
      "         0.0     0.7929    0.9652    0.8706       805\n",
      "         1.0     0.9855    0.9036    0.9428      2106\n",
      "\n",
      "    accuracy                         0.9206      2911\n",
      "   macro avg     0.8892    0.9344    0.9067      2911\n",
      "weighted avg     0.9322    0.9206    0.9228      2911\n",
      "\n"
     ]
    }
   ],
   "source": [
    "report=classification_report(test_target, predictions, digits=4)\n",
    "print(report)"
   ]
  },
  {
   "cell_type": "markdown",
   "id": "bdd91aab",
   "metadata": {
    "papermill": {
     "duration": 0.012208,
     "end_time": "2024-03-08T19:45:14.444701",
     "exception": false,
     "start_time": "2024-03-08T19:45:14.432493",
     "status": "completed"
    },
    "tags": []
   },
   "source": [
    "# **Decision Tree**"
   ]
  },
  {
   "cell_type": "code",
   "execution_count": 18,
   "id": "5877e640",
   "metadata": {
    "execution": {
     "iopub.execute_input": "2024-03-08T19:45:14.472801Z",
     "iopub.status.busy": "2024-03-08T19:45:14.472373Z",
     "iopub.status.idle": "2024-03-08T19:45:14.477179Z",
     "shell.execute_reply": "2024-03-08T19:45:14.476081Z"
    },
    "papermill": {
     "duration": 0.021617,
     "end_time": "2024-03-08T19:45:14.479429",
     "exception": false,
     "start_time": "2024-03-08T19:45:14.457812",
     "status": "completed"
    },
    "tags": []
   },
   "outputs": [],
   "source": [
    "model = DTC()"
   ]
  },
  {
   "cell_type": "code",
   "execution_count": 19,
   "id": "3502f852",
   "metadata": {
    "execution": {
     "iopub.execute_input": "2024-03-08T19:45:14.507406Z",
     "iopub.status.busy": "2024-03-08T19:45:14.506969Z",
     "iopub.status.idle": "2024-03-08T19:45:19.342588Z",
     "shell.execute_reply": "2024-03-08T19:45:19.341404Z"
    },
    "papermill": {
     "duration": 4.852835,
     "end_time": "2024-03-08T19:45:19.345275",
     "exception": false,
     "start_time": "2024-03-08T19:45:14.492440",
     "status": "completed"
    },
    "tags": []
   },
   "outputs": [
    {
     "data": {
      "text/html": [
       "<style>#sk-container-id-3 {color: black;background-color: white;}#sk-container-id-3 pre{padding: 0;}#sk-container-id-3 div.sk-toggleable {background-color: white;}#sk-container-id-3 label.sk-toggleable__label {cursor: pointer;display: block;width: 100%;margin-bottom: 0;padding: 0.3em;box-sizing: border-box;text-align: center;}#sk-container-id-3 label.sk-toggleable__label-arrow:before {content: \"▸\";float: left;margin-right: 0.25em;color: #696969;}#sk-container-id-3 label.sk-toggleable__label-arrow:hover:before {color: black;}#sk-container-id-3 div.sk-estimator:hover label.sk-toggleable__label-arrow:before {color: black;}#sk-container-id-3 div.sk-toggleable__content {max-height: 0;max-width: 0;overflow: hidden;text-align: left;background-color: #f0f8ff;}#sk-container-id-3 div.sk-toggleable__content pre {margin: 0.2em;color: black;border-radius: 0.25em;background-color: #f0f8ff;}#sk-container-id-3 input.sk-toggleable__control:checked~div.sk-toggleable__content {max-height: 200px;max-width: 100%;overflow: auto;}#sk-container-id-3 input.sk-toggleable__control:checked~label.sk-toggleable__label-arrow:before {content: \"▾\";}#sk-container-id-3 div.sk-estimator input.sk-toggleable__control:checked~label.sk-toggleable__label {background-color: #d4ebff;}#sk-container-id-3 div.sk-label input.sk-toggleable__control:checked~label.sk-toggleable__label {background-color: #d4ebff;}#sk-container-id-3 input.sk-hidden--visually {border: 0;clip: rect(1px 1px 1px 1px);clip: rect(1px, 1px, 1px, 1px);height: 1px;margin: -1px;overflow: hidden;padding: 0;position: absolute;width: 1px;}#sk-container-id-3 div.sk-estimator {font-family: monospace;background-color: #f0f8ff;border: 1px dotted black;border-radius: 0.25em;box-sizing: border-box;margin-bottom: 0.5em;}#sk-container-id-3 div.sk-estimator:hover {background-color: #d4ebff;}#sk-container-id-3 div.sk-parallel-item::after {content: \"\";width: 100%;border-bottom: 1px solid gray;flex-grow: 1;}#sk-container-id-3 div.sk-label:hover label.sk-toggleable__label {background-color: #d4ebff;}#sk-container-id-3 div.sk-serial::before {content: \"\";position: absolute;border-left: 1px solid gray;box-sizing: border-box;top: 0;bottom: 0;left: 50%;z-index: 0;}#sk-container-id-3 div.sk-serial {display: flex;flex-direction: column;align-items: center;background-color: white;padding-right: 0.2em;padding-left: 0.2em;position: relative;}#sk-container-id-3 div.sk-item {position: relative;z-index: 1;}#sk-container-id-3 div.sk-parallel {display: flex;align-items: stretch;justify-content: center;background-color: white;position: relative;}#sk-container-id-3 div.sk-item::before, #sk-container-id-3 div.sk-parallel-item::before {content: \"\";position: absolute;border-left: 1px solid gray;box-sizing: border-box;top: 0;bottom: 0;left: 50%;z-index: -1;}#sk-container-id-3 div.sk-parallel-item {display: flex;flex-direction: column;z-index: 1;position: relative;background-color: white;}#sk-container-id-3 div.sk-parallel-item:first-child::after {align-self: flex-end;width: 50%;}#sk-container-id-3 div.sk-parallel-item:last-child::after {align-self: flex-start;width: 50%;}#sk-container-id-3 div.sk-parallel-item:only-child::after {width: 0;}#sk-container-id-3 div.sk-dashed-wrapped {border: 1px dashed gray;margin: 0 0.4em 0.5em 0.4em;box-sizing: border-box;padding-bottom: 0.4em;background-color: white;}#sk-container-id-3 div.sk-label label {font-family: monospace;font-weight: bold;display: inline-block;line-height: 1.2em;}#sk-container-id-3 div.sk-label-container {text-align: center;}#sk-container-id-3 div.sk-container {/* jupyter's `normalize.less` sets `[hidden] { display: none; }` but bootstrap.min.css set `[hidden] { display: none !important; }` so we also need the `!important` here to be able to override the default hidden behavior on the sphinx rendered scikit-learn.org. See: https://github.com/scikit-learn/scikit-learn/issues/21755 */display: inline-block !important;position: relative;}#sk-container-id-3 div.sk-text-repr-fallback {display: none;}</style><div id=\"sk-container-id-3\" class=\"sk-top-container\"><div class=\"sk-text-repr-fallback\"><pre>DecisionTreeClassifier()</pre><b>In a Jupyter environment, please rerun this cell to show the HTML representation or trust the notebook. <br />On GitHub, the HTML representation is unable to render, please try loading this page with nbviewer.org.</b></div><div class=\"sk-container\" hidden><div class=\"sk-item\"><div class=\"sk-estimator sk-toggleable\"><input class=\"sk-toggleable__control sk-hidden--visually\" id=\"sk-estimator-id-3\" type=\"checkbox\" checked><label for=\"sk-estimator-id-3\" class=\"sk-toggleable__label sk-toggleable__label-arrow\">DecisionTreeClassifier</label><div class=\"sk-toggleable__content\"><pre>DecisionTreeClassifier()</pre></div></div></div></div></div>"
      ],
      "text/plain": [
       "DecisionTreeClassifier()"
      ]
     },
     "execution_count": 19,
     "metadata": {},
     "output_type": "execute_result"
    }
   ],
   "source": [
    "model.fit(train,train_target)"
   ]
  },
  {
   "cell_type": "code",
   "execution_count": 20,
   "id": "488d78b9",
   "metadata": {
    "execution": {
     "iopub.execute_input": "2024-03-08T19:45:19.373889Z",
     "iopub.status.busy": "2024-03-08T19:45:19.372786Z",
     "iopub.status.idle": "2024-03-08T19:45:19.384009Z",
     "shell.execute_reply": "2024-03-08T19:45:19.382833Z"
    },
    "papermill": {
     "duration": 0.028291,
     "end_time": "2024-03-08T19:45:19.386821",
     "exception": false,
     "start_time": "2024-03-08T19:45:19.358530",
     "status": "completed"
    },
    "tags": []
   },
   "outputs": [],
   "source": [
    "predictions = model.predict(test)"
   ]
  },
  {
   "cell_type": "code",
   "execution_count": 21,
   "id": "21cc60e7",
   "metadata": {
    "execution": {
     "iopub.execute_input": "2024-03-08T19:45:19.415198Z",
     "iopub.status.busy": "2024-03-08T19:45:19.413933Z",
     "iopub.status.idle": "2024-03-08T19:45:19.436307Z",
     "shell.execute_reply": "2024-03-08T19:45:19.434644Z"
    },
    "papermill": {
     "duration": 0.039113,
     "end_time": "2024-03-08T19:45:19.438934",
     "exception": false,
     "start_time": "2024-03-08T19:45:19.399821",
     "status": "completed"
    },
    "tags": []
   },
   "outputs": [
    {
     "name": "stdout",
     "output_type": "stream",
     "text": [
      "              precision    recall  f1-score   support\n",
      "\n",
      "         0.0     0.8389    0.8795    0.8587       805\n",
      "         1.0     0.9531    0.9354    0.9442      2106\n",
      "\n",
      "    accuracy                         0.9200      2911\n",
      "   macro avg     0.8960    0.9075    0.9014      2911\n",
      "weighted avg     0.9215    0.9200    0.9205      2911\n",
      "\n"
     ]
    }
   ],
   "source": [
    "report=classification_report(test_target, predictions, digits=4)\n",
    "print(report)"
   ]
  },
  {
   "cell_type": "markdown",
   "id": "991d027f",
   "metadata": {
    "papermill": {
     "duration": 0.012401,
     "end_time": "2024-03-08T19:45:19.464303",
     "exception": false,
     "start_time": "2024-03-08T19:45:19.451902",
     "status": "completed"
    },
    "tags": []
   },
   "source": [
    "# **Random Forest**"
   ]
  },
  {
   "cell_type": "code",
   "execution_count": 22,
   "id": "a1058888",
   "metadata": {
    "execution": {
     "iopub.execute_input": "2024-03-08T19:45:19.554604Z",
     "iopub.status.busy": "2024-03-08T19:45:19.554167Z",
     "iopub.status.idle": "2024-03-08T19:45:19.559083Z",
     "shell.execute_reply": "2024-03-08T19:45:19.557871Z"
    },
    "papermill": {
     "duration": 0.02177,
     "end_time": "2024-03-08T19:45:19.561500",
     "exception": false,
     "start_time": "2024-03-08T19:45:19.539730",
     "status": "completed"
    },
    "tags": []
   },
   "outputs": [],
   "source": [
    "model = RFC(n_jobs = -1)"
   ]
  },
  {
   "cell_type": "code",
   "execution_count": 23,
   "id": "e102d3f9",
   "metadata": {
    "execution": {
     "iopub.execute_input": "2024-03-08T19:45:19.589403Z",
     "iopub.status.busy": "2024-03-08T19:45:19.588952Z",
     "iopub.status.idle": "2024-03-08T19:45:26.471171Z",
     "shell.execute_reply": "2024-03-08T19:45:26.469951Z"
    },
    "papermill": {
     "duration": 6.899281,
     "end_time": "2024-03-08T19:45:26.473861",
     "exception": false,
     "start_time": "2024-03-08T19:45:19.574580",
     "status": "completed"
    },
    "tags": []
   },
   "outputs": [
    {
     "data": {
      "text/html": [
       "<style>#sk-container-id-4 {color: black;background-color: white;}#sk-container-id-4 pre{padding: 0;}#sk-container-id-4 div.sk-toggleable {background-color: white;}#sk-container-id-4 label.sk-toggleable__label {cursor: pointer;display: block;width: 100%;margin-bottom: 0;padding: 0.3em;box-sizing: border-box;text-align: center;}#sk-container-id-4 label.sk-toggleable__label-arrow:before {content: \"▸\";float: left;margin-right: 0.25em;color: #696969;}#sk-container-id-4 label.sk-toggleable__label-arrow:hover:before {color: black;}#sk-container-id-4 div.sk-estimator:hover label.sk-toggleable__label-arrow:before {color: black;}#sk-container-id-4 div.sk-toggleable__content {max-height: 0;max-width: 0;overflow: hidden;text-align: left;background-color: #f0f8ff;}#sk-container-id-4 div.sk-toggleable__content pre {margin: 0.2em;color: black;border-radius: 0.25em;background-color: #f0f8ff;}#sk-container-id-4 input.sk-toggleable__control:checked~div.sk-toggleable__content {max-height: 200px;max-width: 100%;overflow: auto;}#sk-container-id-4 input.sk-toggleable__control:checked~label.sk-toggleable__label-arrow:before {content: \"▾\";}#sk-container-id-4 div.sk-estimator input.sk-toggleable__control:checked~label.sk-toggleable__label {background-color: #d4ebff;}#sk-container-id-4 div.sk-label input.sk-toggleable__control:checked~label.sk-toggleable__label {background-color: #d4ebff;}#sk-container-id-4 input.sk-hidden--visually {border: 0;clip: rect(1px 1px 1px 1px);clip: rect(1px, 1px, 1px, 1px);height: 1px;margin: -1px;overflow: hidden;padding: 0;position: absolute;width: 1px;}#sk-container-id-4 div.sk-estimator {font-family: monospace;background-color: #f0f8ff;border: 1px dotted black;border-radius: 0.25em;box-sizing: border-box;margin-bottom: 0.5em;}#sk-container-id-4 div.sk-estimator:hover {background-color: #d4ebff;}#sk-container-id-4 div.sk-parallel-item::after {content: \"\";width: 100%;border-bottom: 1px solid gray;flex-grow: 1;}#sk-container-id-4 div.sk-label:hover label.sk-toggleable__label {background-color: #d4ebff;}#sk-container-id-4 div.sk-serial::before {content: \"\";position: absolute;border-left: 1px solid gray;box-sizing: border-box;top: 0;bottom: 0;left: 50%;z-index: 0;}#sk-container-id-4 div.sk-serial {display: flex;flex-direction: column;align-items: center;background-color: white;padding-right: 0.2em;padding-left: 0.2em;position: relative;}#sk-container-id-4 div.sk-item {position: relative;z-index: 1;}#sk-container-id-4 div.sk-parallel {display: flex;align-items: stretch;justify-content: center;background-color: white;position: relative;}#sk-container-id-4 div.sk-item::before, #sk-container-id-4 div.sk-parallel-item::before {content: \"\";position: absolute;border-left: 1px solid gray;box-sizing: border-box;top: 0;bottom: 0;left: 50%;z-index: -1;}#sk-container-id-4 div.sk-parallel-item {display: flex;flex-direction: column;z-index: 1;position: relative;background-color: white;}#sk-container-id-4 div.sk-parallel-item:first-child::after {align-self: flex-end;width: 50%;}#sk-container-id-4 div.sk-parallel-item:last-child::after {align-self: flex-start;width: 50%;}#sk-container-id-4 div.sk-parallel-item:only-child::after {width: 0;}#sk-container-id-4 div.sk-dashed-wrapped {border: 1px dashed gray;margin: 0 0.4em 0.5em 0.4em;box-sizing: border-box;padding-bottom: 0.4em;background-color: white;}#sk-container-id-4 div.sk-label label {font-family: monospace;font-weight: bold;display: inline-block;line-height: 1.2em;}#sk-container-id-4 div.sk-label-container {text-align: center;}#sk-container-id-4 div.sk-container {/* jupyter's `normalize.less` sets `[hidden] { display: none; }` but bootstrap.min.css set `[hidden] { display: none !important; }` so we also need the `!important` here to be able to override the default hidden behavior on the sphinx rendered scikit-learn.org. See: https://github.com/scikit-learn/scikit-learn/issues/21755 */display: inline-block !important;position: relative;}#sk-container-id-4 div.sk-text-repr-fallback {display: none;}</style><div id=\"sk-container-id-4\" class=\"sk-top-container\"><div class=\"sk-text-repr-fallback\"><pre>RandomForestClassifier(n_jobs=-1)</pre><b>In a Jupyter environment, please rerun this cell to show the HTML representation or trust the notebook. <br />On GitHub, the HTML representation is unable to render, please try loading this page with nbviewer.org.</b></div><div class=\"sk-container\" hidden><div class=\"sk-item\"><div class=\"sk-estimator sk-toggleable\"><input class=\"sk-toggleable__control sk-hidden--visually\" id=\"sk-estimator-id-4\" type=\"checkbox\" checked><label for=\"sk-estimator-id-4\" class=\"sk-toggleable__label sk-toggleable__label-arrow\">RandomForestClassifier</label><div class=\"sk-toggleable__content\"><pre>RandomForestClassifier(n_jobs=-1)</pre></div></div></div></div></div>"
      ],
      "text/plain": [
       "RandomForestClassifier(n_jobs=-1)"
      ]
     },
     "execution_count": 23,
     "metadata": {},
     "output_type": "execute_result"
    }
   ],
   "source": [
    "model.fit(train,train_target)"
   ]
  },
  {
   "cell_type": "code",
   "execution_count": 24,
   "id": "4259b658",
   "metadata": {
    "execution": {
     "iopub.execute_input": "2024-03-08T19:45:26.502339Z",
     "iopub.status.busy": "2024-03-08T19:45:26.501711Z",
     "iopub.status.idle": "2024-03-08T19:45:26.691301Z",
     "shell.execute_reply": "2024-03-08T19:45:26.690386Z"
    },
    "papermill": {
     "duration": 0.206639,
     "end_time": "2024-03-08T19:45:26.693664",
     "exception": false,
     "start_time": "2024-03-08T19:45:26.487025",
     "status": "completed"
    },
    "tags": []
   },
   "outputs": [
    {
     "data": {
      "text/plain": [
       "1.0"
      ]
     },
     "execution_count": 24,
     "metadata": {},
     "output_type": "execute_result"
    }
   ],
   "source": [
    "model.score(train,train_target)"
   ]
  },
  {
   "cell_type": "code",
   "execution_count": 25,
   "id": "b71e1263",
   "metadata": {
    "execution": {
     "iopub.execute_input": "2024-03-08T19:45:26.722976Z",
     "iopub.status.busy": "2024-03-08T19:45:26.722369Z",
     "iopub.status.idle": "2024-03-08T19:45:26.798300Z",
     "shell.execute_reply": "2024-03-08T19:45:26.797254Z"
    },
    "papermill": {
     "duration": 0.094434,
     "end_time": "2024-03-08T19:45:26.801629",
     "exception": false,
     "start_time": "2024-03-08T19:45:26.707195",
     "status": "completed"
    },
    "tags": []
   },
   "outputs": [],
   "source": [
    "predictions = model.predict(test)"
   ]
  },
  {
   "cell_type": "code",
   "execution_count": 26,
   "id": "7b0829b3",
   "metadata": {
    "execution": {
     "iopub.execute_input": "2024-03-08T19:45:26.830657Z",
     "iopub.status.busy": "2024-03-08T19:45:26.830214Z",
     "iopub.status.idle": "2024-03-08T19:45:26.853700Z",
     "shell.execute_reply": "2024-03-08T19:45:26.852541Z"
    },
    "papermill": {
     "duration": 0.041065,
     "end_time": "2024-03-08T19:45:26.856442",
     "exception": false,
     "start_time": "2024-03-08T19:45:26.815377",
     "status": "completed"
    },
    "tags": []
   },
   "outputs": [
    {
     "name": "stdout",
     "output_type": "stream",
     "text": [
      "              precision    recall  f1-score   support\n",
      "\n",
      "         0.0     0.9599    0.9528    0.9564       805\n",
      "         1.0     0.9820    0.9848    0.9834      2106\n",
      "\n",
      "    accuracy                         0.9760      2911\n",
      "   macro avg     0.9710    0.9688    0.9699      2911\n",
      "weighted avg     0.9759    0.9760    0.9759      2911\n",
      "\n"
     ]
    }
   ],
   "source": [
    "report=classification_report(test_target, predictions, digits=4)\n",
    "print(report)"
   ]
  },
  {
   "cell_type": "markdown",
   "id": "401f92fd",
   "metadata": {
    "papermill": {
     "duration": 0.013334,
     "end_time": "2024-03-08T19:45:26.883637",
     "exception": false,
     "start_time": "2024-03-08T19:45:26.870303",
     "status": "completed"
    },
    "tags": []
   },
   "source": [
    "# **XGBoost**"
   ]
  },
  {
   "cell_type": "code",
   "execution_count": 27,
   "id": "e8c4582f",
   "metadata": {
    "execution": {
     "iopub.execute_input": "2024-03-08T19:45:26.913867Z",
     "iopub.status.busy": "2024-03-08T19:45:26.912730Z",
     "iopub.status.idle": "2024-03-08T19:45:26.918121Z",
     "shell.execute_reply": "2024-03-08T19:45:26.916917Z"
    },
    "papermill": {
     "duration": 0.02298,
     "end_time": "2024-03-08T19:45:26.920672",
     "exception": false,
     "start_time": "2024-03-08T19:45:26.897692",
     "status": "completed"
    },
    "tags": []
   },
   "outputs": [],
   "source": [
    "model = XGB.XGBClassifier(objective='binary:logistic')"
   ]
  },
  {
   "cell_type": "code",
   "execution_count": 28,
   "id": "a9f854ec",
   "metadata": {
    "execution": {
     "iopub.execute_input": "2024-03-08T19:45:26.949552Z",
     "iopub.status.busy": "2024-03-08T19:45:26.949094Z",
     "iopub.status.idle": "2024-03-08T19:45:30.434400Z",
     "shell.execute_reply": "2024-03-08T19:45:30.433376Z"
    },
    "papermill": {
     "duration": 3.502884,
     "end_time": "2024-03-08T19:45:30.437115",
     "exception": false,
     "start_time": "2024-03-08T19:45:26.934231",
     "status": "completed"
    },
    "tags": []
   },
   "outputs": [
    {
     "data": {
      "text/html": [
       "<style>#sk-container-id-5 {color: black;background-color: white;}#sk-container-id-5 pre{padding: 0;}#sk-container-id-5 div.sk-toggleable {background-color: white;}#sk-container-id-5 label.sk-toggleable__label {cursor: pointer;display: block;width: 100%;margin-bottom: 0;padding: 0.3em;box-sizing: border-box;text-align: center;}#sk-container-id-5 label.sk-toggleable__label-arrow:before {content: \"▸\";float: left;margin-right: 0.25em;color: #696969;}#sk-container-id-5 label.sk-toggleable__label-arrow:hover:before {color: black;}#sk-container-id-5 div.sk-estimator:hover label.sk-toggleable__label-arrow:before {color: black;}#sk-container-id-5 div.sk-toggleable__content {max-height: 0;max-width: 0;overflow: hidden;text-align: left;background-color: #f0f8ff;}#sk-container-id-5 div.sk-toggleable__content pre {margin: 0.2em;color: black;border-radius: 0.25em;background-color: #f0f8ff;}#sk-container-id-5 input.sk-toggleable__control:checked~div.sk-toggleable__content {max-height: 200px;max-width: 100%;overflow: auto;}#sk-container-id-5 input.sk-toggleable__control:checked~label.sk-toggleable__label-arrow:before {content: \"▾\";}#sk-container-id-5 div.sk-estimator input.sk-toggleable__control:checked~label.sk-toggleable__label {background-color: #d4ebff;}#sk-container-id-5 div.sk-label input.sk-toggleable__control:checked~label.sk-toggleable__label {background-color: #d4ebff;}#sk-container-id-5 input.sk-hidden--visually {border: 0;clip: rect(1px 1px 1px 1px);clip: rect(1px, 1px, 1px, 1px);height: 1px;margin: -1px;overflow: hidden;padding: 0;position: absolute;width: 1px;}#sk-container-id-5 div.sk-estimator {font-family: monospace;background-color: #f0f8ff;border: 1px dotted black;border-radius: 0.25em;box-sizing: border-box;margin-bottom: 0.5em;}#sk-container-id-5 div.sk-estimator:hover {background-color: #d4ebff;}#sk-container-id-5 div.sk-parallel-item::after {content: \"\";width: 100%;border-bottom: 1px solid gray;flex-grow: 1;}#sk-container-id-5 div.sk-label:hover label.sk-toggleable__label {background-color: #d4ebff;}#sk-container-id-5 div.sk-serial::before {content: \"\";position: absolute;border-left: 1px solid gray;box-sizing: border-box;top: 0;bottom: 0;left: 50%;z-index: 0;}#sk-container-id-5 div.sk-serial {display: flex;flex-direction: column;align-items: center;background-color: white;padding-right: 0.2em;padding-left: 0.2em;position: relative;}#sk-container-id-5 div.sk-item {position: relative;z-index: 1;}#sk-container-id-5 div.sk-parallel {display: flex;align-items: stretch;justify-content: center;background-color: white;position: relative;}#sk-container-id-5 div.sk-item::before, #sk-container-id-5 div.sk-parallel-item::before {content: \"\";position: absolute;border-left: 1px solid gray;box-sizing: border-box;top: 0;bottom: 0;left: 50%;z-index: -1;}#sk-container-id-5 div.sk-parallel-item {display: flex;flex-direction: column;z-index: 1;position: relative;background-color: white;}#sk-container-id-5 div.sk-parallel-item:first-child::after {align-self: flex-end;width: 50%;}#sk-container-id-5 div.sk-parallel-item:last-child::after {align-self: flex-start;width: 50%;}#sk-container-id-5 div.sk-parallel-item:only-child::after {width: 0;}#sk-container-id-5 div.sk-dashed-wrapped {border: 1px dashed gray;margin: 0 0.4em 0.5em 0.4em;box-sizing: border-box;padding-bottom: 0.4em;background-color: white;}#sk-container-id-5 div.sk-label label {font-family: monospace;font-weight: bold;display: inline-block;line-height: 1.2em;}#sk-container-id-5 div.sk-label-container {text-align: center;}#sk-container-id-5 div.sk-container {/* jupyter's `normalize.less` sets `[hidden] { display: none; }` but bootstrap.min.css set `[hidden] { display: none !important; }` so we also need the `!important` here to be able to override the default hidden behavior on the sphinx rendered scikit-learn.org. See: https://github.com/scikit-learn/scikit-learn/issues/21755 */display: inline-block !important;position: relative;}#sk-container-id-5 div.sk-text-repr-fallback {display: none;}</style><div id=\"sk-container-id-5\" class=\"sk-top-container\"><div class=\"sk-text-repr-fallback\"><pre>XGBClassifier(base_score=None, booster=None, callbacks=None,\n",
       "              colsample_bylevel=None, colsample_bynode=None,\n",
       "              colsample_bytree=None, device=None, early_stopping_rounds=None,\n",
       "              enable_categorical=False, eval_metric=None, feature_types=None,\n",
       "              gamma=None, grow_policy=None, importance_type=None,\n",
       "              interaction_constraints=None, learning_rate=None, max_bin=None,\n",
       "              max_cat_threshold=None, max_cat_to_onehot=None,\n",
       "              max_delta_step=None, max_depth=None, max_leaves=None,\n",
       "              min_child_weight=None, missing=nan, monotone_constraints=None,\n",
       "              multi_strategy=None, n_estimators=None, n_jobs=None,\n",
       "              num_parallel_tree=None, random_state=None, ...)</pre><b>In a Jupyter environment, please rerun this cell to show the HTML representation or trust the notebook. <br />On GitHub, the HTML representation is unable to render, please try loading this page with nbviewer.org.</b></div><div class=\"sk-container\" hidden><div class=\"sk-item\"><div class=\"sk-estimator sk-toggleable\"><input class=\"sk-toggleable__control sk-hidden--visually\" id=\"sk-estimator-id-5\" type=\"checkbox\" checked><label for=\"sk-estimator-id-5\" class=\"sk-toggleable__label sk-toggleable__label-arrow\">XGBClassifier</label><div class=\"sk-toggleable__content\"><pre>XGBClassifier(base_score=None, booster=None, callbacks=None,\n",
       "              colsample_bylevel=None, colsample_bynode=None,\n",
       "              colsample_bytree=None, device=None, early_stopping_rounds=None,\n",
       "              enable_categorical=False, eval_metric=None, feature_types=None,\n",
       "              gamma=None, grow_policy=None, importance_type=None,\n",
       "              interaction_constraints=None, learning_rate=None, max_bin=None,\n",
       "              max_cat_threshold=None, max_cat_to_onehot=None,\n",
       "              max_delta_step=None, max_depth=None, max_leaves=None,\n",
       "              min_child_weight=None, missing=nan, monotone_constraints=None,\n",
       "              multi_strategy=None, n_estimators=None, n_jobs=None,\n",
       "              num_parallel_tree=None, random_state=None, ...)</pre></div></div></div></div></div>"
      ],
      "text/plain": [
       "XGBClassifier(base_score=None, booster=None, callbacks=None,\n",
       "              colsample_bylevel=None, colsample_bynode=None,\n",
       "              colsample_bytree=None, device=None, early_stopping_rounds=None,\n",
       "              enable_categorical=False, eval_metric=None, feature_types=None,\n",
       "              gamma=None, grow_policy=None, importance_type=None,\n",
       "              interaction_constraints=None, learning_rate=None, max_bin=None,\n",
       "              max_cat_threshold=None, max_cat_to_onehot=None,\n",
       "              max_delta_step=None, max_depth=None, max_leaves=None,\n",
       "              min_child_weight=None, missing=nan, monotone_constraints=None,\n",
       "              multi_strategy=None, n_estimators=None, n_jobs=None,\n",
       "              num_parallel_tree=None, random_state=None, ...)"
      ]
     },
     "execution_count": 28,
     "metadata": {},
     "output_type": "execute_result"
    }
   ],
   "source": [
    "model.fit(train,train_target)"
   ]
  },
  {
   "cell_type": "code",
   "execution_count": 29,
   "id": "57a1e56d",
   "metadata": {
    "execution": {
     "iopub.execute_input": "2024-03-08T19:45:30.466823Z",
     "iopub.status.busy": "2024-03-08T19:45:30.465888Z",
     "iopub.status.idle": "2024-03-08T19:45:30.553014Z",
     "shell.execute_reply": "2024-03-08T19:45:30.552103Z"
    },
    "papermill": {
     "duration": 0.104679,
     "end_time": "2024-03-08T19:45:30.555494",
     "exception": false,
     "start_time": "2024-03-08T19:45:30.450815",
     "status": "completed"
    },
    "tags": []
   },
   "outputs": [
    {
     "data": {
      "text/plain": [
       "1.0"
      ]
     },
     "execution_count": 29,
     "metadata": {},
     "output_type": "execute_result"
    }
   ],
   "source": [
    "model.score(train,train_target)"
   ]
  },
  {
   "cell_type": "code",
   "execution_count": 30,
   "id": "eb77bf05",
   "metadata": {
    "execution": {
     "iopub.execute_input": "2024-03-08T19:45:30.586124Z",
     "iopub.status.busy": "2024-03-08T19:45:30.585711Z",
     "iopub.status.idle": "2024-03-08T19:45:30.630927Z",
     "shell.execute_reply": "2024-03-08T19:45:30.629846Z"
    },
    "papermill": {
     "duration": 0.063736,
     "end_time": "2024-03-08T19:45:30.633791",
     "exception": false,
     "start_time": "2024-03-08T19:45:30.570055",
     "status": "completed"
    },
    "tags": []
   },
   "outputs": [],
   "source": [
    "predictions = model.predict(test)"
   ]
  },
  {
   "cell_type": "code",
   "execution_count": 31,
   "id": "551c1c80",
   "metadata": {
    "execution": {
     "iopub.execute_input": "2024-03-08T19:45:30.664867Z",
     "iopub.status.busy": "2024-03-08T19:45:30.664443Z",
     "iopub.status.idle": "2024-03-08T19:45:30.685675Z",
     "shell.execute_reply": "2024-03-08T19:45:30.684303Z"
    },
    "papermill": {
     "duration": 0.039242,
     "end_time": "2024-03-08T19:45:30.688234",
     "exception": false,
     "start_time": "2024-03-08T19:45:30.648992",
     "status": "completed"
    },
    "tags": []
   },
   "outputs": [
    {
     "name": "stdout",
     "output_type": "stream",
     "text": [
      "              precision    recall  f1-score   support\n",
      "\n",
      "         0.0     0.9577    0.9565    0.9571       805\n",
      "         1.0     0.9834    0.9839    0.9836      2106\n",
      "\n",
      "    accuracy                         0.9763      2911\n",
      "   macro avg     0.9706    0.9702    0.9704      2911\n",
      "weighted avg     0.9763    0.9763    0.9763      2911\n",
      "\n"
     ]
    }
   ],
   "source": [
    "report=classification_report(test_target, predictions, digits=4)\n",
    "print(report)"
   ]
  },
  {
   "cell_type": "code",
   "execution_count": null,
   "id": "769f03c6",
   "metadata": {
    "papermill": {
     "duration": 0.014004,
     "end_time": "2024-03-08T19:45:30.716416",
     "exception": false,
     "start_time": "2024-03-08T19:45:30.702412",
     "status": "completed"
    },
    "tags": []
   },
   "outputs": [],
   "source": []
  }
 ],
 "metadata": {
  "kaggle": {
   "accelerator": "none",
   "dataSources": [
    {
     "datasetId": 29414,
     "sourceId": 37484,
     "sourceType": "datasetVersion"
    }
   ],
   "dockerImageVersionId": 30626,
   "isGpuEnabled": false,
   "isInternetEnabled": true,
   "language": "python",
   "sourceType": "notebook"
  },
  "kernelspec": {
   "display_name": "Python 3",
   "language": "python",
   "name": "python3"
  },
  "language_info": {
   "codemirror_mode": {
    "name": "ipython",
    "version": 3
   },
   "file_extension": ".py",
   "mimetype": "text/x-python",
   "name": "python",
   "nbconvert_exporter": "python",
   "pygments_lexer": "ipython3",
   "version": "3.10.12"
  },
  "papermill": {
   "default_parameters": {},
   "duration": 55.638252,
   "end_time": "2024-03-08T19:45:31.353184",
   "environment_variables": {},
   "exception": null,
   "input_path": "__notebook__.ipynb",
   "output_path": "__notebook__.ipynb",
   "parameters": {},
   "start_time": "2024-03-08T19:44:35.714932",
   "version": "2.4.0"
  }
 },
 "nbformat": 4,
 "nbformat_minor": 5
}
